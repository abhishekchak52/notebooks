{
 "cells": [
  {
   "cell_type": "code",
   "execution_count": 3,
   "metadata": {
    "collapsed": false,
    "deletable": true,
    "editable": true
   },
   "outputs": [
    {
     "name": "stdout",
     "output_type": "stream",
     "text": [
      "Populating the interactive namespace from numpy and matplotlib\n"
     ]
    }
   ],
   "source": [
    "%pylab inline\n",
    "from IPython.display import HTML"
   ]
  },
  {
   "cell_type": "code",
   "execution_count": 19,
   "metadata": {
    "collapsed": false,
    "deletable": true,
    "editable": true
   },
   "outputs": [],
   "source": [
    "# defining our own kronecker delta \n",
    "kronecker_delta = lambda i,j: 1 if i == j else 0\n",
    "potential = lambda x: -1 if absolute(x) < 20 else 0"
   ]
  },
  {
   "cell_type": "markdown",
   "metadata": {
    "collapsed": false,
    "deletable": true,
    "editable": true
   },
   "source": [
    "Next we generate the lattice for the simulation. For now we consider 2000 lattice points."
   ]
  },
  {
   "cell_type": "code",
   "execution_count": 20,
   "metadata": {
    "collapsed": false,
    "deletable": true,
    "editable": true
   },
   "outputs": [
    {
     "data": {
      "text/plain": [
       "[<matplotlib.lines.Line2D at 0x284937532b0>]"
      ]
     },
     "execution_count": 20,
     "metadata": {},
     "output_type": "execute_result"
    },
    {
     "data": {
      "image/png": "[encoded data removed]",
      "text/plain": [
       "<matplotlib.figure.Figure at 0x28493226be0>"
      ]
     },
     "metadata": {},
     "output_type": "display_data"
    }
   ],
   "source": [
    "delta = 1 # The spacing between neighboring lattice points\n",
    "L = 1000 # The ends of the lattice\n",
    "length = 10\n",
    "momentum = 1\n",
    "lattice = arange(-L,L,delta)\n",
    "v = vectorize(potential)\n",
    "plot(v(lattice))"
   ]
  },
  {
   "cell_type": "code",
   "execution_count": 23,
   "metadata": {
    "collapsed": false,
    "deletable": true,
    "editable": true
   },
   "outputs": [
    {
     "data": {
      "text/plain": [
       "array([[ 1., -1.,  0., ...,  0.,  0.,  0.],\n",
       "       [-1.,  1., -1., ...,  0.,  0.,  0.],\n",
       "       [ 0., -1.,  1., ...,  0.,  0.,  0.],\n",
       "       ..., \n",
       "       [ 0.,  0.,  0., ...,  2., -1.,  0.],\n",
       "       [ 0.,  0.,  0., ..., -1.,  2., -1.],\n",
       "       [ 0.,  0.,  0., ...,  0., -1.,  2.]])"
      ]
     },
     "execution_count": 23,
     "metadata": {},
     "output_type": "execute_result"
    }
   ],
   "source": [
    "hamiltonian = np.zeros((lattice.shape[0],lattice.shape[0]))\n",
    "for row in range(lattice.shape[0]):\n",
    "    for col in range(lattice.shape[0]):\n",
    "        hamiltonian[row,col] = (kronecker_delta(col+1, row)\\\n",
    "                                + kronecker_delta(col-1, row)\\\n",
    "                                - 2*kronecker_delta(col,row))/-(delta)**2\\\n",
    "                                + potential(row)*kronecker_delta(col,row)\n",
    "hamiltonian"
   ]
  },
  {
   "cell_type": "markdown",
   "metadata": {
    "deletable": true,
    "editable": true
   },
   "source": [
    "Now that we've computed the hamiltonian matrix, let's diagonalize it"
   ]
  },
  {
   "cell_type": "code",
   "execution_count": 26,
   "metadata": {
    "collapsed": false,
    "deletable": true,
    "editable": true
   },
   "outputs": [
    {
     "data": {
      "text/plain": [
       "[<matplotlib.lines.Line2D at 0x2849575ff28>]"
      ]
     },
     "execution_count": 26,
     "metadata": {},
     "output_type": "execute_result"
    },
    {
     "data": {
      "image/png": "[encoded data removed]",
      "text/plain": [
       "<matplotlib.figure.Figure at 0x284937aac88>"
      ]
     },
     "metadata": {},
     "output_type": "display_data"
    }
   ],
   "source": [
    "eigenvalues, eigenvectors = linalg.eigh(hamiltonian)\n",
    "plot(lattice,absolute(eigenvectors[0]))"
   ]
  },
  {
   "cell_type": "code",
   "execution_count": 60,
   "metadata": {
    "collapsed": false,
    "deletable": true,
    "editable": true
   },
   "outputs": [
    {
     "data": {
      "text/plain": [
       "(2000,)"
      ]
     },
     "execution_count": 60,
     "metadata": {},
     "output_type": "execute_result"
    }
   ],
   "source": [
    "# eigenvectors[0].shape\n",
    "wavefunction.shape"
   ]
  },
  {
   "cell_type": "markdown",
   "metadata": {
    "deletable": true,
    "editable": true
   },
   "source": [
    "Let's define the initial state of our system now. "
   ]
  },
  {
   "cell_type": "code",
   "execution_count": 56,
   "metadata": {
    "collapsed": false,
    "deletable": true,
    "editable": true
   },
   "outputs": [
    {
     "name": "stdout",
     "output_type": "stream",
     "text": [
      "1.0\n"
     ]
    },
    {
     "data": {
      "text/plain": [
       "array([  5.05473356e-220 -7.43209685e-220j,\n",
       "         2.44114938e-219 +6.46172756e-221j,\n",
       "         3.43234625e-219 +5.67016730e-219j, ...,\n",
       "        -7.90882423e-219 -1.61383394e-218j,\n",
       "         3.43234625e-219 -5.67016730e-219j,\n",
       "         2.44114938e-219 -6.46172756e-221j])"
      ]
     },
     "execution_count": 56,
     "metadata": {},
     "output_type": "execute_result"
    },
    {
     "data": {
      "image/png": "[encoded data removed]",
      "text/plain": [
       "<matplotlib.figure.Figure at 0x29ea39c2048>"
      ]
     },
     "metadata": {},
     "output_type": "display_data"
    }
   ],
   "source": [
    "wavefunction = (1/sqrt(2)*length)*exp(-((lattice)**2)/2000)*exp(1j*momentum*lattice)\n",
    "normalize = sum(absolute(wavefunction))*delta\n",
    "wavefunction /= normalize\n",
    "print(sum(absolute(wavefunction))*delta)\n",
    "plot(lattice,absolute(wavefunction))\n",
    "wavefunction"
   ]
  },
  {
   "cell_type": "markdown",
   "metadata": {
    "deletable": true,
    "editable": true
   },
   "source": [
    "Now we decompose the state into the projections on the basis vectors"
   ]
  },
  {
   "cell_type": "code",
   "execution_count": 48,
   "metadata": {
    "collapsed": false,
    "deletable": true,
    "editable": true
   },
   "outputs": [
    {
     "name": "stderr",
     "output_type": "stream",
     "text": [
      "C:\\Anaconda\\lib\\site-packages\\ipykernel\\__main__.py:3: ComplexWarning: Casting complex values to real discards the imaginary part\n",
      "  app.launch_new_instance()\n"
     ]
    }
   ],
   "source": [
    "coeff = empty_like(eigenvalues)\n",
    "for index in range(eigenvalues.shape[0]):\n",
    "    coeff[index] = vdot(eigenvectors[index],wavefunction)"
   ]
  },
  {
   "cell_type": "markdown",
   "metadata": {
    "deletable": true,
    "editable": true
   },
   "source": [
    "Now that we know the wavefunction as a linear combination of basis vectors, the time evolution of the complete wavefuction is just the linear combination of the time evolutions of the basis states. Lets do this for 10 time steps."
   ]
  },
  {
   "cell_type": "code",
   "execution_count": 40,
   "metadata": {
    "collapsed": false,
    "deletable": true,
    "editable": true
   },
   "outputs": [
    {
     "data": {
      "text/plain": [
       "[<matplotlib.lines.Line2D at 0x29ea1225710>]"
      ]
     },
     "execution_count": 40,
     "metadata": {},
     "output_type": "execute_result"
    },
    {
     "data": {
      "image/png": "[encoded data removed]",
      "text/plain": [
       "<matplotlib.figure.Figure at 0x29ea11a36a0>"
      ]
     },
     "metadata": {},
     "output_type": "display_data"
    }
   ],
   "source": [
    "func = zeros_like(eigenvalues,dtype=complex128)\n",
    "for index in range(eigenvalues.shape[0]):\n",
    "        func += coeff[index]*eigenvectors[index]\n",
    "plot(lattice,absolute(func))"
   ]
  },
  {
   "cell_type": "code",
   "execution_count": 41,
   "metadata": {
    "collapsed": false,
    "deletable": true,
    "editable": true
   },
   "outputs": [],
   "source": [
    "time_steps = arange(0,200,2)\n",
    "evolution = []\n",
    "for time in time_steps:\n",
    "    wavefunc = zeros_like(eigenvalues,dtype=complex128)\n",
    "    for index in range(eigenvalues.shape[0]):\n",
    "        wavefunc += coeff[index]*eigenvectors[index]*exp(-1j*eigenvalues[index]*time)\n",
    "    evolution.append(wavefunc)"
   ]
  },
  {
   "cell_type": "code",
   "execution_count": 44,
   "metadata": {
    "collapsed": false,
    "deletable": true,
    "editable": true,
    "scrolled": true
   },
   "outputs": [
    {
     "data": {
      "image/png": "[encoded data removed]",
      "text/plain": [
       "<matplotlib.figure.Figure at 0x29ea0e97390>"
      ]
     },
     "metadata": {},
     "output_type": "display_data"
    }
   ],
   "source": [
    "fig = plt.figure()\n",
    "ax = plt.axes(xlim=(-L, L), ylim=(0, 0.2))\n",
    "line, = ax.plot([], [], lw=2)\n",
    "def init():\n",
    "    line.set_data([], [])\n",
    "    return line,\n",
    "\n",
    "def animate(i):\n",
    "    line.set_data(lattice,absolute(evolution[i]))\n",
    "    return line,"
   ]
  },
  {
   "cell_type": "code",
   "execution_count": 45,
   "metadata": {
    "collapsed": false,
    "deletable": true,
    "editable": true
   },
   "outputs": [
    {
     "data": {
      "text/html": [
       "<video width=\"432\" height=\"288\" controls autoplay loop>\n",
       "  <source type=\"video/mp4\" src=\"data:video/mp4;base64,AAAAHGZ0eXBNNFYgAAACAGlzb21pc28yYXZjMQAAAAhmcmVlAABCO21kYXQAAAKuBgX//6rcRem9\n",
       "5tlIt5Ys2CDZI+7veDI2NCAtIGNvcmUgMTQ4IHIyNzYyIDkwYTYxZWMgLSBILjI2NC9NUEVHLTQg\n",
       "QVZDIGNvZGVjIC0gQ29weWxlZnQgMjAwMy0yMDE3IC0gaHR0cDovL3d3dy52aWRlb2xhbi5vcmcv\n",
       "eDI2NC5odG1sIC0gb3B0aW9uczogY2FiYWM9MSByZWY9MyBkZWJsb2NrPTE6MDowIGFuYWx5c2U9\n",
       "MHgzOjB4MTEzIG1lPWhleCBzdWJtZT03IHBzeT0xIHBzeV9yZD0xLjAwOjAuMDAgbWl4ZWRfcmVm\n",
       "PTEgbWVfcmFuZ2U9MTYgY2hyb21hX21lPTEgdHJlbGxpcz0xIDh4OGRjdD0xIGNxbT0wIGRlYWR6\n",
       "b25lPTIxLDExIGZhc3RfcHNraXA9MSBjaHJvbWFfcXBfb2Zmc2V0PS0yIHRocmVhZHM9NiBsb29r\n",
       "YWhlYWRfdGhyZWFkcz0xIHNsaWNlZF90aHJlYWRzPTAgbnI9MCBkZWNpbWF0ZT0xIGludGVybGFj\n",
       "ZWQ9MCBibHVyYXlfY29tcGF0PTAgY29uc3RyYWluZWRfaW50cmE9MCBiZnJhbWVzPTMgYl9weXJh\n",
       "bWlkPTIgYl9hZGFwdD0xIGJfYmlhcz0wIGRpcmVjdD0xIHdlaWdodGI9MSBvcGVuX2dvcD0wIHdl\n",
       "aWdodHA9MiBrZXlpbnQ9MjUwIGtleWludF9taW49MjAgc2NlbmVjdXQ9NDAgaW50cmFfcmVmcmVz\n",
       "aD0wIHJjX2xvb2thaGVhZD00MCByYz1jcmYgbWJ0cmVlPTEgY3JmPTIzLjAgcWNvbXA9MC42MCBx\n",
       "cG1pbj0wIHFwbWF4PTY5IHFwc3RlcD00IGlwX3JhdGlvPTEuNDAgYXE9MToxLjAwAIAAABAtZYiE\n",
       "AD///vdonwKbWkN6gOSVxSXbT4H/q2dwfI/pAwAAAwAAr9Z/Cc6+ICf5o18CVF0giE+cDwxISl3G\n",
       "SEo3LUZPHYfpyxAOoAbxtOTDI4FVicFZe1OHyPFYoq0oep+ODlbrps6NFVM1S7q25DNiA9JwSsNu\n",
       "/+TZMAAAAwGclArlb7+Uv72KvRALcYlU5TmH/ybAMZDfuRX6G22g1YzBqxhiHhzm9/XZhfoN5MmD\n",
       "2wvpfDNX2/aj/wvHGW1gyf/CuFcKJyQj2TWJ8pXMKZGkOE52mHr+3BDHFbTSpS3LfjDyZlxyueHA\n",
       "DsUmzDgshs212GpWgnWIGj53kcwC4oI/6lZfE4rf39s/uHR73amvbb0mF+4VNAu1iWzIHqdwLrmU\n",
       "1Z/qlW5in/i4jNocPa+qsz1z4NPFrpjWgIpDo9C16hR0HJzaUON8rfZlzJb7qIxHQoSeph01Oq5r\n",
       "EABCOrPfLrtXw8GwqJInKqD9dnTY2KsVDVw3/fOkeSyE9cr6UBwz11gKvP8EH5zcn++mNvLZc/sq\n",
       "mMfX+yRAxccbSIkp+OQJGeh4gcZd57XhiC2Qq96G/jbbl0ihXai79QQnbvhB1MV1kHUpXQXOcf7a\n",
       "WF7qblzfvhv8+j0T3LxMNUktkGy4ie9fjaTFxC7iyC2//Vunjs9zI84uf7dCNCsyEptkBgmc7CWe\n",
       "1owNodoAAAMAA4Y9XFkixqeOBoxklPb+PbnUfMSxSy7zScdObA8KAHvXOl087oMOtCgOMHunqa3o\n",
       "k6m3R5LLKQDYi97parncVvukAc6V1OzyNt7RHMbefTHIoYEmkVg8HB2mRjdDz4OzBADcDen2PFIW\n",
       "+MOkNClsQ1ucHXIQ2S/FYy0a1ydrDo9qIX5IyMN1IpgF8y5vtX/lg9E/sNacgotoTXKgN8ceFsDF\n",
       "Ct5Dq8gSy1aXP8oK5YIE5DertE4gTQW1UBHUOM7ELOgUa6yeA3Uqr0hZWeKFAd6Kvd1H5WsOiySM\n",
       "aiTj2bBREGR2QBxPgdjCM6rl6Oto93VbBpl9HYYaSukKRcY9ZTEGZW889zOl5YerFvAgJ0PZ0CqW\n",
       "RheYC+MOlblGslQ29GCtTyuqrMsiofvWcGLT2vGX2bj7E+/2udMZXTOKK6kz1P890LpJLQPWuQ99\n",
       "zzc4AA4DmtWYKlCEt9cP2ll29lyQ041HGFmU24vCNtnV+yIs74Tni58rBytrVhti4Q4Pi0YGE+gx\n",
       "5ZydT1w/iEwNbul442C3pbaf+oWBL6dZTFk1RsQbuU80wqfY/2tfgwTZdQZWoddf40x/DARx1sZq\n",
       "cxWl/om7fPKORzGhBTvyEN0Yt/44Q+HgLDhImnDup1IroMWHc1d3nJBU+sholB+1nIvt1E4iadVV\n",
       "3o7p7FhnY6LPaMHxFuH847HgL7y457LW6bslLZSxArmkdYoJOZcAWBCBq4Bih6dU0IanPw7mko4D\n",
       "gC+VwHyGc9GEST3HB2AbiR9AKREdoPy5UyARdTjK9uetGmNjyi+DU5aFSkXAbVP1F+wweup9Y0/D\n",
       "7aZAt0JOEoh8AnVyBg4TVbFYkPbWQc9WgtlFPRSMfP9lrZYJsfupAQqRud8dEoD8rNb86DTcmZoq\n",
       "hWwqKxeHXla9JUZN6xNUKXQ5MT/a7GXts4gAPavid9q23Lf4v4ebY3RAxHNsfDqqJ0XIXKRtNzpN\n",
       "Y6OaXFC1D22CRj+JIWAkXTvOClQNypb8oyGOQRozKTHZK+viNk7h6sW5Jefq/xWJbQ125gSmmu13\n",
       "oP0LYTNmf4+lSzqUJt4bqrAE9HGMQFNWA5ipt2a/vmy+xst3DGyC5PJMT2TbciC9OvtscGcsE/rw\n",
       "M+X/ktuev3MB/fUNUDPSpFAcSue5ZbcrS1+Tl7HmM24NdftlAdzH6PX7Gc2BjwktbtJuTGv9xC4D\n",
       "GjrO7iUyzkMNUUw8Y+2Xl24vC5lU+07CPCBIXxGrIRLnfd6qZfSd8XfabUUHFQJAbKMstYWkR3Dw\n",
       "8x7f3nximwxGjpL9TDDkcGcKEm3goJgX58Rh9mvWyDsvefEK6sLlb+5pPZA6OVVNkrJCfTH92Ti5\n",
       "r76bXiEriUbnd0f6mruTyfAurDazkJWKTwoAO+LFMKAFU0aePCqKZKlTWtO7KjdywPtnPM4LnCCJ\n",
       "M9Z/FvMAxBf5qENQN281uw/kkn9IrDie9IigDTohujc5ThPmLB5dIf3YDagAaSD+cHbvdeccYS59\n",
       "JFUjxZomtxS/R9qq6tGN/v3ju+VrjnZNjVXLVr716+bSpcln7LblkJajSav1/z/s79xaEfx9PMec\n",
       "qEhcaskhiw4XlW3jx4/hsJ+1Dmbn0ve9jDtqc2OfwuQ+Rf9Nfg8TEDpxVfMRJLDIEPuJx90GeyQb\n",
       "BsZyKLszGBSMIxnNYeWn1vJwf9tfHAFiGLzRT9Rt7fxEhi3CffTnNXFhewIogdT3wBR9X8LNr5ce\n",
       "CjwRdum7k+icELRslZpqGbbQh38MztYxMvFHStNItGc6Pm7sNOLSO2PULBoiIYBM8tziV78/9skg\n",
       "N3C6e8J3B4aiiQ+dwXpgSRehNcABB2c34dokRX4y/Ijf74j5zwB5dBxxB2iGxUYtH/occhpqCDGM\n",
       "hsunPWfX+ECGJ2lxVDLUMBAaQMYYdyr40mJaO22eiNV1Bu37CJKlBaI2ZUeF9hhY5Rr7rSVp+JwI\n",
       "lBZ3155UBEl8RtM4lmiijAzCWCvcpmx2FSba1jkWed9N/jCuKYW5sHRAGnmPfiOxb9X81Wb160ke\n",
       "85/msPd3pOU8poAiycfr8SH8Ogj39Pz2Z9nIBf2lSj+NKXge045+ZXBdECr3zE2etf8NyuPmE/62\n",
       "lTWVMMerVObh6uVF7uB1rHs0ntOcHXoL4Zlg1PySWRXZRBxYhpjvjXN80LErlkaFe9YwnDgKOBbf\n",
       "3nix0vSAItlxEW+1V5NqFYd77W9hL0TflBWAf/Of/3yRWkyV5dJ1M9nodFokIRwX3NBMnhhly8zf\n",
       "MZvQE9uk0iDyudxCHWNctBkjDkNBQeFtlBQeUPxdkfyfEEZjPzXI1rda7m7qBsF6Ck9Vi4EtjyO4\n",
       "XqBgJIWRV/4gj35PesrqRjfYS1HRhTNfRb/GvYZgOBiz2B6+m9hIwjRD6PJumlIfpW87eoTRZcDA\n",
       "pREsMOJAauCpzFqLlHfu/wa4gC7PNlH3gv7eGP9FvQ5uW9NTE3pzeRcXIJ0u0UzYs7nArEnuTgZ/\n",
       "zRbyY3SjtK2LFCF1VVCQZDZutIgsrsMneiMATzk9n6xe11OEArvG73BFpWUvnk6n09ZEI5C89Fqs\n",
       "yqSqXaYueg7U9e0qDri25kc4S7D4GLYvx/KrSWriBnRNUQRjGnoQ2JVrABsFb5Mv3wl6B9D6btWa\n",
       "VJo039WVEFye6Ig2WF74/tb+0f/HQ1Dh+vahILYmnq5jwrDgK9hqSOFjDpQIMjpPpq37uJb1UTSm\n",
       "5207jtVmazcZ/Kge3CFGFVJGJOZF/x0crhIhtWMAErivFXfnrNGDlpZjTuoUK9BWlsBP79lJOSXB\n",
       "vNeAtOrUamXG76rVmEWupOph4jvUhkVOG6YIxg/Ps3WUJEoaBfYfGw7ndDNDn9lOAh/MO334W6/3\n",
       "jdMYi2THO4Arnq4nWGvgl8bmLhV/UaO08/t1+WbqhJoD9hSfZ6Rr0lbmCD3b9t/fULlNZsePC627\n",
       "bDL/Nz8zSs/aP8mbhDXobq0Qh73fakIAxl5VYd8aXBfj6X5YD/APS6a/o3J/GxoHggiqAW8KPU5f\n",
       "Y7xkmvTYa7lrgy7+a5x1c6gjaW0j/+9BMIwh/9iLNa2fyi6/OggC9iwTk9u9CXfGFgctouekqHoX\n",
       "Eql4JJLzJe+7oesGG/8KXz7jC5LjfyDgpSo5ZzvrXPnbjfefIQuXHysSn4hDi4RFFP80+xZV1N15\n",
       "ppTRXzXOxp/iIebrZLGpDyb/y74bbgUMITrhRoE+STn694d5/POvOH471MqN0SraYKxw6FUuGmsH\n",
       "0dQmf4dfAEP4wYCOX0ycUN/kK9tl62j8HtO5S/01z/yhGQrGR2G7/0ujB5UTccCf8CoBu8Ij+GAJ\n",
       "yETb7T/q5QBKu4B7GQbM1ApwMj7AfO8Lti4qVJ7I5X/bABfs3bNxUEe8Fs1dXkOEK+hSFUYw9dV9\n",
       "crIAoCTPei0f+395rQSgUIa+GmmyuXJ89rXIGi1ONNa3J3F85kB1QoxePhKdK5CQgj2uPFX2TdLS\n",
       "IaIrLgHo/EWH8K2MAfm+Ux511Z/v0Acf1XhazK5q9LELMsizanyVvKPK0bfj+YPhbQYuqiHxOwgy\n",
       "Rg8ir3UwNizA/lSPKejccv6+qKkYnmXYcilsZrt+RjUpI2j4UnG3//ze0q3pGxioUwOF7CpixmlU\n",
       "OgpXP5LBjUBOBLGkaslhTHe/9wbITLVtzaC8kc+pnDM0/tyYL+qgKR0yZdzFHYulVruDJOSEvIP7\n",
       "gMGB+79Un4qS9Fadm5/nYc2kVkBwl5VXdjEslsSyYvF4WXW7KC0ClgZ6dkseouYoBcS7dQ4gnU1n\n",
       "qdaARXiuJePSiLYXnJ27hnoiGKAM+6XkBZjEc2iU6ZoHdeCIkpMaM7JDwM41tVhI/Pe3mosxHa+n\n",
       "//B/4e17uhhGzkK9l2USZ9TU5r/rdbNGSDyJOqV0k6rtUJhC7/xrSQymZpBIU0z2Ur6jMUabqWQl\n",
       "/4sRI2iZVlgIQqU5McruMbtBGdqJjBCQO+ZRVl1sxUTXnjVuK/CDx2cZCApBsK2/xxJoGTeqvPhc\n",
       "9U8fYD1Ud/smTXPTTbWGN3Ey9LRKpqMB/FfR9L+9zMZmE3GQhjFCVyggkyqbdOOJeqXnuda6h9vb\n",
       "MeTcg4joDf9YZzzZCBwbXku6lDOqayl3Yg0mMDQiDEpl+85+Sqp4/OKAcJllg5kgZcptRfMP+pAy\n",
       "0c2P11OYTL88niaHjFp3WRCXDrECEJRH/YVl18i35KiyAu5ulX7JZqQx11ty6RPfc7Tqzbj7+1v9\n",
       "38DdDhQUjF10YY6UB10N5c5Ndo+q9v2sOU7dJ4C+fXboobJFt0nd0atsvOw+W8x2bAm/IwgBK7uJ\n",
       "SJYWs6YsMIe/zwB1GYzm1B14fwdcXKzQbuueEQ9/sO9bnv/MXZ99IJYnmQc6DFHITFqdYfNFB0iT\n",
       "MXjIt6IxUV75HOIkBVzonoUmLWQFHZ13NlFeN6mD/N1wK1hMfjQ13QH7Y5WqwygaRlihnv/xUzDd\n",
       "BCRJnuAWfqqPMSVKWEvsWUDsAL0CIm8jMP6NuHuyC67Cc1vk/2kqNG+m1CLuz0wQ67LX4EbRJXis\n",
       "vjEPl4XiY7x8I6e4J/KsCsK6cjMi0VVJWKYz9BOECIQ4fAEdgomgaZrqeMR/vNfwlrXw/9ZRaH3Y\n",
       "rs3fxdF5O72TcRgCoE6ZfKgcfULD0+I9HUoAcxHKtSDCX/vipyOKFgw5fEzrpouIgx4GPn+Do570\n",
       "yQCPki59XN3kjh2KL41FgVBM3/3Ns6k8g1lCqxfohxloKybrsuTYPyLeNKXJDUNcGwZgszYvphah\n",
       "mO1Anm5I5FsA7HDnCIhC8IQ5UUbPhNXACQ15UODAFUivCwAAAhhBmiRsQ//+qZYBJEfL4AmCccjE\n",
       "D+0VZH7JQmBHFXL5Umx0N2Vd1n/DXjSFVln9ZfQuBHvGNX8NdDt1y1qOcmrMFpx+gGDDfDyRB55Q\n",
       "Ubi51dfJUPZ8JUY4OT5eCOJQkVQzCh5MvwNeOQ6UbZp1l9uFRm7uuPq9Mex9ynNIPjaLv/2XSIzD\n",
       "BCJ6JT9aNrrOZfqBw57gdM9DcnVAag0m8TW6WU++jIqoFYWJH/+y3oIkuEBLPSlYxnpPWF0/UMzR\n",
       "GJDRcShcLCdLcHMN2uQENFTbDt+wbn1leAgd6lt4ouoefG6uwW0i43vnO9XF9dSWogzw1L2YeeJv\n",
       "OH59NqGd+LJtkg1+0+X8uXgKHSSzV3KuhQOx7FkLGitJo5uvpa7MAO+K2OXOya2SGm+QPmwMfIpt\n",
       "O6Zh7X9t1qvAbcCs+YFG+N6EJ9btdQoHc7o1dV1MHqSx4WEOx2lTNBTt88DHzgkUTXIXyJTRLciv\n",
       "kDfc3k7fZ94MRyhjF8xsoigEOR3mE3d6wk6k3B3UxarvL3mAJr87um4wiNhp9U3dBAw4J4l8ogMt\n",
       "AOmH7XJfn2AHlppiz1R/tA2RZl3zqojkST8o1Nz68Hzz6aeLLCeLpO20KqYC8yX4WlX1SZOGUWro\n",
       "oKBicgZHdh3k/bqYPuZ8YVDpnUEHCB2GccEibPYt2fdp7ARhTtVAHtt7k2gXrDvcY/1Tixpd0PmZ\n",
       "qkECNgAAAIJBnkJ4hn8CBXTyo5YDij+4FrASngk1vt8WcrByAk36Wr0qAEm+nFYjAw5sRGFpLIcT\n",
       "kN5p2gz2+CHpm9l5tEDMZvVHKhiwyCEgADwmrlirO09bUOKfySmU4wDLdxk7fg3AHnNTXS+5k826\n",
       "C0v3GLKEtVpVz5yqujBKkeChEo66NhkRAAAAUwGeYXRCvwDSpIK9JOT7PqvGm8gNI51z/pggwloA\n",
       "BlFQTEaINHeNFynTQAAgKIhn9SS6Y/AOndChAX//pty5utaWzIrTDXg9GHE1Agei1+FQsFOwAAAA\n",
       "UgGeY2pCvwAX50MwhxicI1W4lK5byIpmwAXMWQ4Pet9VfZurkuZHjt0VuJUu8WWNvX67OWD4jF+O\n",
       "KOEBDvqz3+SfbEbk158tB78lQxslQldQCdkAAAEJQZpoSahBaJlMCH///qmWAB3/dKYeNKP8k6sK\n",
       "DOJw/hjPqkuMdpEEWGdIVVPmw4OX+qU6yji0aYF5AgfEqVRWeFJ9pvQFM6oPy5Q6lDRuc5zIg2Km\n",
       "99YZL5xM4tyCwtgbmUMIiZj1/Q6XWM8ahbFa65MKwHa8p7KHjneJEGyhAbGnNkIp+7jH8ohL3mak\n",
       "pFYHwxwj/xYjl6TpY/mPCYhKwWJjB0PA7Uf/q7PdFOHJuh3vIJrpijfgmTr+Galqnf0/7bu1ghGU\n",
       "Ll4bM+gMLf5F1yeMXHmzXsx41KSPi/b0r5Du0AY3wIVVpmyXBuZoj8CIN84aVN2OvA8TJcNny9Ia\n",
       "wBDPpvYoBxb88QAAAHlBnoZFESwz/wIXhxEti3bxCFLdtlW0QaQYNYdIUJ5rMAJxyMKE4jt31R49\n",
       "TUzht1QQ2Wv/6U8sDL/NpWLfHftjnDXXR0VclHvJEidPpKk0fy+fr4RRD555mDuGzOUaYuP6waY6\n",
       "NeeI/tWVcncCyLqIr5HVvRXxbYEvAAAAWwGepXRCvwAX3913apI7iL9seDrStcAAuTEcy0C63dRo\n",
       "2Pf2VlOjxSVE9RMfcAdk4CXEdgjAGYUkzUZ+BbJY3T8/cgUI8vNY4qRJ/EgUQnKU8pPiAEXl52ef\n",
       "WiEAAABiAZ6nakK/ABfnQzCHGJwjZ4Y5iMwAC6Bqg8w6CD2U+glkTayt4eJB5uvOjH5unlxx4K0A\n",
       "mfqhdLFWFEwELRC/21jxS2qe+q9ktnyePIbImhm3gVBPrhU3eyrTXux1NXuqxPgAAADgQZqsSahB\n",
       "bJlMCH///qmWAAALJv4UNAG3jz4AouPNSwuH3/g1pfRZ8y9JwviquzuCaSMVwykAN1/+V/ZT6d0i\n",
       "fRn2aj8XCByLWORMkx2j/MqMTvg/mYnH8qgn+ectuiv0cvpakjDhZgcyWBGgQS8RtHI5WhqhZjp7\n",
       "RZmco+VqRuuR6TNWOeBeVzqGoo2w5lpeJNplI1h1EV6eICvpLhv6nd45zI9ceFUI0wUk/Sunzqpw\n",
       "FFj4buGebqbrCFFYyn+8nl1PPsaGZsL7EXP2wNgTl4We4x8IxOw7YNnR9fSZfcgAAACHQZ7KRRUs\n",
       "M/8CF4cQmvJLVatoX+SkCh1bvpD4WtTJGAFpEJ3Fe7qL0Csg2iSs2qNfX/BR2kU1qFGAFO13RgUv\n",
       "OqEawnNJPsfbbQYiuksztb4CvkIxpRJj2g73HVcW07EhBxm4/UXUhkq7DqqEehbRS8V5DdaZH3ON\n",
       "oNRJ8oOLnh5jx7i7IJyBAAAAWAGe6XRCvwAX3913apI7iNuZSxwcG6ngAuQf/1vhiYcPSlJ97MNL\n",
       "TmsBOkbtCHKVcyzsysNHzLzTk89YZh6ULl28rKikylRKZ53QhFPXhyy9yyfCvUMBcjAAAABNAZ7r\n",
       "akK/ABfnQzCHGJwjZ3wopirgBbRpqAcoCO4w7F1wm3561x+ysobdiMLnHoFyLIT+Qf7u12x3dkpL\n",
       "YeOicD+yO5aX2oXTwkph7OAAAAC0QZrvSahBbJlMCH///qmWAAALJvbIUAOkehg4J5tcZrp5f7Vu\n",
       "qpmsMf9xVgvik2M+zUfi1d9ITXp3Zk7lsY8gOjOQziCYsxSkQKz6sMnUpZxkhMTXtDeki/+7BgxB\n",
       "ZVbTyUmoG09tqQ7mauqn5LmIRFd+p6fQ59TTV8FEjrb64WpV4EGz/yi7HvfsDrtJrAlVADy8MPb7\n",
       "7R9k1Pyhdbplrl0542Vqn8mhD9OB9iD82zaR0LwvAAAAZUGfDUUVLC//AsgcoTX443etyfslJNkB\n",
       "kABcy2Q/KLboxLeHSh7+027HLXXf891545gCvw8nUXHWwNFlw4mVgB6JTka7UqLoKqvr5bWrzCks\n",
       "9NQW91VQs5fkN0vPwyLlwq9r+iDdAAAAWAGfLmpCvwAX50MwhxicI1P2OVO5+WnBR7VQAcQFDhKl\n",
       "zXkLp85MQJLtBZq6y9a6u/Pdgv1cM4reh/KYTXaeT0IV/U+bu6l2SKfoOj/jmzx1KeUD3OLfgjsA\n",
       "AADtQZszSahBbJlMCH///qmWAAALKxnMQwBGvhxnVcvvq5jhTmkcZ2H6crrlSHIplvg06PwnFBqZ\n",
       "4o5m0iJqNSVDAVqFsM789/KTWTL0o2rWx5vEyAAq3vepPReOXm5Q8IK60eERqMJl3KWhxOtV51cu\n",
       "+07871xCqKN8oSOh65W5JvdtPO3zpOXivZ9cCKfrS2L4Z/KKXGyeXdU3OAQPWcOdKlAtuwFrjGKZ\n",
       "N5+4yf+MtrLWl1urMOaAwf3kp5WMvwWDNVmePIbzKGRebB6MoPYqjHZf9GY9VU4GZ1L8eqM41bM2\n",
       "x+9gYSY+3BKp1eWXAAAAckGfUUUVLDP/AheHEJryS1WraF/kqQDAA43pSTj1wvZY4y3K8ZHSNXvp\n",
       "noDez5u6UrT+QimwtXS3sLp8eJIRvvB+eQb0D/eQlve/AWg7Hr7lpsa7Fil37LZo+WPixabcjU2E\n",
       "y5J6cKaKXpq6j0QS20z+hAAAAFYBn3B0Qr8AF9/dd2qSO4jsa0ARK2CMsCt61UaXZ1d6Qm03BJXD\n",
       "b8YuaSGcC4fKegSenSAPBipojNHGWU0BD2xhxhpymqAuOKOnvwqT/m39HKoeq0D+gQAAAEoBn3Jq\n",
       "Qr8AF+dDMIcYnCNoImgBuoAhHxcAjl8xxhOPefyQnXRle2KCWPKLY4zAtPLMNfMlfctnqvelEKOC\n",
       "UnTWd3os5rLKP2LYgAAAANxBm3ZJqEFsmUwIf//+qZYAAAsm+GzSAKxjrTcdNYbW4Qsj9qLc1WXA\n",
       "POBVVJa8WfFhbPDTwSp+87fjKUGFm0Ofiqtb2fvFZOJ9xA7yi9kozJ5hrkfWL+CT0B8KwUYvKpbS\n",
       "oKfMFAF//egTJcpSgce5MCHzb7TEtaWNp6+VlG5V74gcdJeoil4Oib7DrJ/9E1xp5Z1VR0bBFerr\n",
       "YUfqqVctq2CwlT9CKzMCF1OQureny92e27XDsVsMGyK5eqpxYVUEI1mkGvXXymgs5G6dioTY7CJJ\n",
       "v6J7eNUHxvegAAAAX0GflEUVLC//AsgcoTX443etyfslIAqo8AFszYdTMwpG8vnDjgf08K4yMdjQ\n",
       "mZHqhTPJmQESK30QroVOklC73qoHds/2FTa8yA4J5mDbWXs5eq9FJA9muZeREpBy0GNBAAAATgGf\n",
       "tWpCvwAX50MwhxicI3I1oAbmaoK7/3msTMm0nOUWGC++Y+GN3Trb6jVzmE7G0uwac/bbUq0w+UIZ\n",
       "svrWZvqwCORzsE1nMUaj3JLDswAAAMJBm7pJqEFsmUwIf//+qZYAAAsrFj00AK/ACJ75Vc3NnSuN\n",
       "LTGWYXUTpJYrxvDBSgUVm6QcUJymm+aZyWWLG0odpLGiSe/jSZm0Di2iQ+8BsWomCG3gIrgKuqup\n",
       "5CArPrLTfg/NjIyjCxnni+eTTGMQMmtrdGF4bRIDPkhcUCcmaUJRRphtj6YgREXL9drDp9VehfZm\n",
       "gx2/Qn164CyvIKvNVEMKPr46kgwNkzNscsHMJrGGObLgGW7+2GaNgNi95j06KwAAAHJBn9hFFSwz\n",
       "/wIXhxCa8ktVq2hf5KH0UHj1AETEmqn2/+3QnIc0IHVT0SsHqbHLR6jpvH8DfOW5uhrglMBx62Ku\n",
       "Wq7rdi9eXpHw2OsO0p5kGv9YNOFhXhNtR2b9724rzxQglGiqrOAPlEtvlp6FZmFVQZkAAABDAZ/3\n",
       "dEK/ABff3XdqkjuI7GtADc0zsEDhvtrqY2tsVY+1YfVnzUqQnj9oYUFNsRKyigcQWeYex9NSe1PV\n",
       "y8wN8aYnNwAAAEwBn/lqQr8AF+dDMIcYnCNmJoz0ALVIGP2nrsECW2lFNdYVJ38oDjFHFCdznxok\n",
       "QZZzjhUDg+75EVnvQPzHeM2f33PtQJ3dKP+3Y60dAAAA2UGb/kmoQWyZTAh///6plgAACy+XDbSS\n",
       "gBYLUVJfo0TSvD6+Y7LaLzIiqr9br/yzqOy4i8+XEHYTMyUniCnyK7VxNQNhDuqANJMGm0DH1jjt\n",
       "7z5HLrvfElnBw7dAdKlY8hhdScYruGB5z3PAZ4JRVY65A1A21+0muJldLoOZgx092sqOKfqSbSPK\n",
       "NKEd/owQKI+lpiySuUFStQu35IAwTo1BmA/MDyqO1ilLK+LViYD3XusNtQPXiVrZp0MESrYkCnHF\n",
       "OxJ9apQznYxuexxK17TLptlvp39iX8cAAAB4QZ4cRRUsM/8CF4cQmvJLVatoX+SZs1h8IACV33RI\n",
       "Pq7K7lmZOfqFDOez3BeeTdUx+pP9ppaPOAPbXiIPyKhdIuZNPzbm/S6/z88FGsVDX4Di+kQ1fK1l\n",
       "OnIAGzrzgTfQtIzph50LSgSeuVTkMwwWQfWiBbOSWzihAAAARQGeO3RCvwAX3913apI7iOHd37AC\n",
       "L4nEn6BgL6F9x62wWugYBvaM2mwvJeou2DX+KSYHl+wPNCKz+XuJtnWnsnucZ5zqaQAAADsBnj1q\n",
       "Qr8AF+dDMIcYnCNl3S1BsAIvXKb+0w/e4wzh4WchTH0iycivdqVtWkgauoAZajmxKj9yhSBAUQAA\n",
       "ALpBmiFJqEFsmUwIf//+qZYAAAsm9vwwA46AdohZ5Wy9bKKDn2t5ih+i3w6zP/YfoFw/Ngu9PY7z\n",
       "rZ+ybhfZeWw5rK6iu6UatIcTSZON6XISX8XDH1aj49SLLimVtlr7UIdMG4X3hjz7R+Qsf4O/ceQF\n",
       "szAHxFjWPVIfek+nEbfpUzVD7P4wOfFwQBIW+Qa62rgGuArh+SWeoXCAcgCFUiStk1nwWrOfCPid\n",
       "gJGKCeZcOtfXsjowpS+EE8AAAABUQZ5fRRUsL/8CyByhNfjjd63J+yUat0Q4MeyswVABXx0RwwAL\n",
       "6nzzc1ucAOsXowq218Wzu7s5BlThiYOchYRT8W63qKTG3nNw/7qpYnH9AX4tQWtpAAAAQgGeYGpC\n",
       "vwAX50MwhxicI2WqA7/dC9E6/EAIr1QFpK/8c3GBJbk6ZDLIYNyww53N9y8d/i1UqvUsGPY6BcF/\n",
       "XZor9AAAALpBmmVJqEFsmUwIf//+qZYAAAssSwU5Nw+AHGcWN5UqpBhHc2IbeFOKc5i57yzd0cp/\n",
       "b9LDdo07mRGfBplC2ghe+fZXrQiwOv1sQnAAgj/e2QGyrRXZl37iGVFkwDGIxtsJn36NVQawPbol\n",
       "lvR5UMbtHHgZLImGfLzK8a9j2auVMLhmqepssrEzoMoEB5rSJq4lvAsFvXjqr+en6bDEmpEJ5LEl\n",
       "kJTD7B/KzXRctzbCxFNbFDbVywMNUZ0AAABsQZ6DRRUsM/8CF4cQmvJLVatoX+Si6XCEfsH6KV3D\n",
       "gA4g3simeJPINNC1kzhAEGQqkC5koW6imgFEZ1biInCyAuiaOLUfB5z9uB6dV4IKixJCo2QKGyng\n",
       "qUgoNYH0PNszXnZWB26qa/tqceowAAAASwGeonRCvwAX3913apI7iMXaJgYUV3YAHDDT7VS8dGyT\n",
       "4R2TJy6iFUFtRIlvvxZoIJxHn7AYdvwzQ0YSNYgkafPLmcWv5QryBNrO4QAAADwBnqRqQr8AF+dD\n",
       "MIcYnCNeiIZmSOrqjqvJQIFszerQAhE0F+Q1GjR9DXA8jYYpV4C81bGCFGWANSB5HoEAAADRQZqp\n",
       "SahBbJlMCH///qmWAAALKqiFiicwA45/bDlLl1Ka36PRL2A+Uq4XY9k8NRb9nIccLIz2RjjoHcgH\n",
       "SiCKC06KCZ8D+ARXN58aDfU1ZgLOvAbGJCGE77RTC8UX89dlKxKMpbCl2aXL62i+vELyOoQpeRay\n",
       "N5YnyXYSj7Ag2PmVL9/IyMXYAtnjVvPFUUwJUR/yGBpyqlFYLpOth/eTOaGQvVv2VWdeB7dAGmIX\n",
       "FOldqpAg5IByM2C0aw77jVT4kbqotV5GuQtDa1nr7DU0zDUAAABqQZ7HRRUsM/8CF4cQmvJLVato\n",
       "X+SkDhojUAN02Xi48itPvLgriUietkqA8wvZh4TGowghKpfI9scksqFu5uF/zRvPyvGz00h3VI9n\n",
       "X6CpsEzLHsk660fYdXwxWZMpGX1yosa333c/ti+BgwAAADwBnuZ0Qr8AF9/dd2qSO4jh2FRIAQXE\n",
       "AHDOtN5a6lFu8aBaKW2mhZcVt7QxH+lWEW5P8z+zX1M2u7Ee/toAAAA+AZ7oakK/ABfnQzCHGJwj\n",
       "ZPkg512TiCesV2EX35N7eABoCJ4Poj78vey1kP4RnZynQfFdFPbcAyNElDuomrAAAADUQZrtSahB\n",
       "bJlMCH///qmWAAALJv6hVQAjDWleJt5CIFI/Sk36mcDch7VtWJVRtjk6VTqIN3+hE7fva40cZ825\n",
       "07Cz60rseO9dZrFf9Qqq8LV35CIE5sLTC1tISU0kmU5i4fP4A4coaU/VkAr7jceECHxxj46UwW1+\n",
       "W46w9i6MVUiLxUnni6RmJGIrOMhmmz1pqnoMGOb3LhEXI8cnHqIA1tjNZdvtU+Buz56sGBXPcwa+\n",
       "0ZsA/hyb+IKyOVBv4Vp8HhrFQTxwMurnyX0JHDsKhS+GLq0AAAB0QZ8LRRUsM/8CF4cQmvJLVato\n",
       "X+SiX1SkB2ABxXvxHSPn1Y9h1TEjUixUSXPTNq+BnVLm/Sa0JJ0fpppu1KWx9tIsBREGdi67l7Oa\n",
       "n3MqaQG8upM9pPhexrd8gGpXjA2HgGV7gf7ofPlZvGxOfjLf3Srmo4AAAAA+AZ8qdEK/ABff3Xdq\n",
       "kjuJMlO9bykAOOs7tZ+JEoy8+vI9fkeLCX7AwhRGAxRI9HBw3bIKhKoEUDA1VChTckAAAAA+AZ8s\n",
       "akK/ABfnQzCHGJwjmqxyfefjY0YF6AG6VTOqC5dD1YCRJl2bTDhRnGXibOS3nbvX36zufPSGKidp\n",
       "z0EAAADgQZsxSahBbJlMCH///qmWAAALJvcJHACI+9w8DuLV+qJVV5moxAeh13A8Fsa+OVkL7yYv\n",
       "bRxu/aGbIHdmtu9ioF8PeXBQdphNphADwtn9pyUlMHrd5J0fk/e22Spf7ciOyc5+l285s5Bxr3Vv\n",
       "NcnRmHcRMiSN6ly93yYlQTeIq13UwG62UyJ+AdJdFusRWRIhAiGVVIK5Rzqu3aWSExy+IqHyPFgb\n",
       "13ptfJwyByoMAmgdGt970+VcH5Jb/Ncu2/CJ6XfzVa3KENIKPBYw9y239JJyAiZubzN8ZLox54I1\n",
       "6tEAAABjQZ9PRRUsM/8CF4cQmvJLVatoX+S51A+4AgAcKEn3MdynnLtPPZaTDW5Gb0wroI9NDAkB\n",
       "eAoczU168ROu+ay5eOeGXGT8Od7F/WgGf4yh/Q4N6WJ3xxBnkYMTDg57LzspPvkbAAAAPQGfbnRC\n",
       "vwAX3913apI7iO2BoARZLLvsNbNiGTNc2LZnQjUZOwYjSUQZ1wanUJipeeGnMq2eiE7+YPC39DgA\n",
       "AAAuAZ9wakK/ABfnQzCHGJwjb01bFmrz5sklq8CdfgAZmCcVXV/smx3JQ51Rq1jJJAAAAPBBm3VJ\n",
       "qEFsmUwIf//+qZYAAAtu/z0XgMzMBm341xIu4L6jOt3jPJ9eiQBYsKg4k9KykyPIpDV4MlxB9MmI\n",
       "lO2dyZxV2mFc1pXqgvxMnGzvMfel73ANkMOIcGKRPCKPrbHiy7KAZO0Nnx4mV6yHRDTnOBanxG5D\n",
       "aHxbZyu/CG+6+hP0aXnHzz7dxzQIy8brBS2UD64yYGm8oy8Jsu+cCIQU4RCPdBUc69T26LpTnKzC\n",
       "/tN7i3YILjc4QpC2+Mlv0kHW56rJlYnK55sNwfY88aRaQkttF/DsV+SSRFXJTYzQMuUBG6gFW79I\n",
       "RZ5moPhAe3EAAABhQZ+TRRUsM/8CF4cQmvJLVatoX+S87UsjmSKHm5A2jFQ3oGKp+PlaLU6fNNG0\n",
       "npjSQAQYQdzi4K9hAuCP3Ybh+Vl3yniRXxWT+T++40bgWL5v3OT07LagML8CHRLh6RdFQAAAAD8B\n",
       "n7J0Qr8AF9/dd2qSO4kpJ314zrogA4fx6XJwLB3tqOeSJuBln0s1ugpJBJFbtlsdLFrIoCji8e3A\n",
       "HRAUTUQAAAA6AZ+0akK/ABfnQzCHGJwjmIriOU+IAOL376mLDsPe+4VKD95u3L2QsEFEDgsHZ5zr\n",
       "MLeTwGS+9Fk+sQAAAM9Bm7lJqEFsmUwIf//+qZYAAAtu/ENvD9Zxmt0AIvpx+VXTakNJC8dNWB0k\n",
       "FgeQd38v9lLDekHiivo9nvdEJd4Vz/nydi9dUtnzbdFr6jjNXbdlfsTTsDQJvWwpS/l8y8k+781s\n",
       "N9sjIxVNJNKNzmzxBrBxMUcp1kY9MMOLCnntK/FmLEJChT091JjepUe24r8VzYSRAsycwXDEpxlh\n",
       "2jw2npGQJNX88LPR8e/HxetGiWZzI+7VRJNTS8qJ0I8zLSMbEAv0ILIsrRZ0HFSsxkAAAABvQZ/X\n",
       "RRUsM/8CF4cQmvJLVatoX+S9Hw8gYXF2F334WAAr489e+bHMcPUwwcfUj66NROVak7fPT/dTQiNr\n",
       "PUk/U/aYtE9C4efrHqMG8b+3FK8vxWdXGUqMlbMvyvnxAr40kMuqlCfHX2mM7WGonLIxAAAALwGf\n",
       "9nRCvwAX3913apI7iTJMDsEbIL+GDvm3+ABCITt1Wr13XAfbxJkY9iNGHulBAAAARgGf+GpCvwAX\n",
       "50MwhxicI3LA0ALA5ify30rPfrr87d3489ryyr8mIlm1Lllj5r/rM3pShslrzx8Xg+Inu74pBTJI\n",
       "H4AsRkwAAAEFQZv9SahBbJlMCH///qmWAAALbvxgUALDgQ7siWwTth5rRKxu7wTXvW9l8DIL0lp4\n",
       "hXiy7zXAziSpSstyq89V92jKk8oSCzwRj5BEaV3k56LLtuTsPzOcvK/tUZCJ5URNKYV13Us6AtYZ\n",
       "SpXqaUVA39NbfV1EGHLZDe3g6wAfdxcXE6XVAV8WIFAadsOb7WVGFyS0x0aJsVyQDAYZ2XDNRKyN\n",
       "OGOMqyEZercG8AFjBzsZtORkvjaJ64+obm2B6U1eJJb87CFiJigg6rnyamjGciklBVfG3t20/O4e\n",
       "jjUBsuNezFCRI+cwyR5HqBjFjmEWtL7cJRWldoou1rSp9bK8X0t1qT2BAAAAfUGeG0UVLDP/AheH\n",
       "EJryS1WraF/kucCCMAFhhvbU3PHql66w6bktI5mkdaWPX+qsq3repWiQHdoyuzDXuVe/OXudMZFo\n",
       "iYOTh3ds8LLsfOs1FCQCWo5KVw9KBdQGMoI2Tj9tvvN7+MSWZjOY96mD//Bw+K2ckrBFzcZCY26Y\n",
       "AAAAOAGeOnRCvwAX3913apI7iOZmCPMfuMagBF/oRHGnVrZZRTULWT6fWnuDZ1YiCmvNU2wCxjJa\n",
       "830NAAAAQAGePGpCvwAX50MwhxicI21ftWhVAESEMCUKqOlA8LkypmPUSYq/h5Wzjgjx7kaW/csM\n",
       "QcvhtDox9u05MmPIGYEAAADdQZohSahBbJlMCH///qmWAAALdAUJBIArfeXMF+B4WXUYRc/RyMtT\n",
       "ERi1a20T/0BkDb5TPJVt/Lk6c7sf4Nd+h1N/1R2PhOsU3i9HrS1zL1++gQt2OmWCILUsj0CZbORL\n",
       "LZDaWykumOVIGSAZpOG/AnhQ0eFpeoaXtBpo3XgWWFgeD+Dt4bQdao6kg6yOrXYXLu6RDFkiqlsJ\n",
       "bVN8+C1m3+GlE/1mDfdIA8K7MZ0bsZOKIYqdigYS8Jjv9VUCLPA82UBnTJYkUIOYlQJPtnH+DkS4\n",
       "RgcPO/2lh4lb0wYAAABuQZ5fRRUsM/8CF4cQmvJLVatoX+S5wIIwAWHrWdvZ1//oE8gb6v4Zgm/a\n",
       "5euIcTtSFJ3kb5JkBLOv0bAgqxRAozJwW3YNTt7Hkk6JfsLO1O8hv5mMjbwKgR1IqOzFv9bvVfCZ\n",
       "g8syu4axXZOmksAAAABAAZ5+dEK/ABff3XdqkjuJMd0XqP6vgBF2tE7MZ2ypggVq73OxHB6JVl8b\n",
       "ZtrW7OhKs9GAMv2gCb1OFOYXvRPo0QAAAEcBnmBqQr8AF+dDMIcYnCObTVl/0ujVEAIwKpsIwXjK\n",
       "jILc9gZ64eQ39b2nkY7bvUqy2inroypda5xP2wb6DX4zz7mb3GMjiAAAAOJBmmVJqEFsmUwIf//+\n",
       "qZYAAAtwJP3cAOTWkbGbVf377oU9xR5uGRnTyz352zJ+J70mXfv5FsVWsSgPHA9gEG8CSg050Cnl\n",
       "oDZ3GAeagXOp35kLtoaCiZzqjzWSQPBEqt93SJ2vA6n4mR2kowegPkZZfL/CwdHv4xJNnl9M5t8m\n",
       "PX1bX7u42OERy70iHQZRIjv/p50+UdDXQ3xC/odw9aXuGq7dQKkPdukNoOVfVmiCyt1c/w27O3tq\n",
       "mZ9rTEGLpw/iAeF+DAvnbP+fzZEm1WlowloeouD8AsqvB/9XQdbNFPbhAAAAbUGeg0UVLDP/AheH\n",
       "EJryS1WraF/kugoNxgAjDSAcglfsnM3Bsf9LDg6DcMd9vpbVVgukOoIc/nx2KbUaHMSDbBXNM+mZ\n",
       "IH9eIM39WaZ8Co29AfZv/Lj8j26HCHPXAlP7jDubTRIxgCjJlRDjOgEAAABEAZ6idEK/ABff3Xdq\n",
       "kjuJMdzqbdeZ5ogCMBOKu7+3iHFdZEQIBRdaeVoxMYyg0d1zMQwa05uKlf2j1+qB0Fy/w3iX/GEA\n",
       "AAAzAZ6kakK/ABfnQzCHGJwjmPrndTfAESCtGts37paowW2I8uVnS8rzi206Tu7P4xXhi0K9AAAA\n",
       "00GaqUmoQWyZTAh///6plgAAC3a9Wkh9AF9w9x/5o9fJRv+7vSx7i2IeOtL3Orma4QVM0TXehANc\n",
       "jKzaTWpGgFrrGbk82nREBJB7/THhHGcT1UDwlDUCSn7SBZ94ifPvUfXdBUjs9ziLb1cM6rjsd1We\n",
       "ZOW4TaCTTyJsU7t/iN1+GXeooU/XCq7RiZcc99DeeJwdDvcPtb6i2W/lf4qvdImYr86kaf7YExkx\n",
       "2OCkwGrFaD5LgkoAJXyJbln4y0bd3bq4sw3vdWnnMsLXTA96MDxdXMEAAABbQZ7HRRUsM/8CF4cQ\n",
       "mvJLVatoX+S5wIIwARe8+ImJeVQAnL4mF/IAkkYOWtOGqSfxWVIfxtRfGMH+gKRBZt9Cu9tdY7yp\n",
       "xQQuq9uSwTwh3YUMZGHwtpSM6QrH7QAAADMBnuZ0Qr8AF9/dd2qSO4ksdoYACe2IXZ7nzhwwEoFE\n",
       "ss1JM18DXVKqpgrklfyld/9GJYAAAAA0AZ7oakK/ABfnQzCHGJwjgQbWdS25D2bglpSxeADXQ52v\n",
       "9UiyQModkt+3mta/00F3ExLhgAAAAO5Bmu1JqEFsmUwIf//+qZYAAAtvBAqgBYLKYCpDsV3/JlJl\n",
       "gIz+RmJiJ2i/8COAYFpgwIlYGdLNiPwqXQtNAOt/I6sRVSJwFt3Ad8iC7UL7Lup0mzArdETFne15\n",
       "fKuV7GdsO5Sqhtd/NcFVPl6Y3dc8aQOPfvtFdeK0gUvMfxt66iXdiCpuyKbYRcps8fVdnpsnpBWE\n",
       "J3W70Fh4mdzVJKfCm3tTsFDDWvSE9esc4jk63Y7l3LshBeSWSC3TUDbxQzQ5wKD5THG5hBm5BJCI\n",
       "Ff6e6x2n19Xnz+tHgrTRlNB54/KKCwO8I6zfevnPe6BhAAAAWEGfC0UVLDP/AheHEJryS1WraF/k\n",
       "tUUBTC4UqyAEYRHz6/5tjyKvTrt70kcSEMaHNT8uPdIXycyOJ2Kie0cM1RJjSfBUSIyQEK7a1yxm\n",
       "EJBbmc66mH1eNOMAAAA7AZ8qdEK/ABff3XdqkjuJMdifu6QqACwa76KOR97ncRaGlz5xSSTYDJlh\n",
       "a0bTXV1ho6WPf9uQIMxWoVgAAABJAZ8sakK/ABfnQzCHGJwjkxDTNY21GdeP4K1DFXD+KgAhVj/o\n",
       "Kpox9T2ZMwFZG+5k732Iblq92+HKq8SLQjwaBCXrg8jmrlxZsQAAANxBmzFJqEFsmUwIf//+qZYA\n",
       "AAt2umG5jVktJlmxDbwldLZ+CtFom62ySulUCYVkt6EZkIuyBRk3lq7g5mGDrXvmYeMBV6uoKRgu\n",
       "PMN7V2ia8qscj6oEIwuHA4kgRvC+LR2bqYBz03RUsayZ0ZFAMmXFqu8asLW+E7uFFPQgqAS5MfA5\n",
       "00JtFyqqLiw+KqWk7LgT3bhpsaNC4teTTx/AxDKCJcLEtsljWtdmqJEl+GOp8Bau7JUWacXZxQAQ\n",
       "8yHmzlPX40MMSfW5vyqaaHrJFjsuT6xV9tNPJs9/qT2BAAAAXUGfT0UVLDP/AheHEJryS1WraF/k\n",
       "uE/q1KbzmNAkYQdpdbhedYcuo6VgA2eSD1sWXJmkww29iZEs9yhQF4+GK2MIvNIvGG34dWH6i+T9\n",
       "2+cgj6SyEgTrc4HtX21NQQAAAEABn250Qr8AF9/dd2qSO4kk2q0EST5koTSLEXtt7aDilgAITpv6\n",
       "iubeWxJW3fYWoZ7gKVvhWJOVCb+nxT46fYhsAAAAQQGfcGpCvwAX50MwhxicI5G6Xe2rTZ4gCJCp\n",
       "+8GRrsU8ttWJyIJljGEIgsGN8jnMglho70AUMsPMdVLrO0ivE0F1AAAA6kGbdUmoQWyZTAh///6p\n",
       "lgAAC3AlC4+AHGt0nk1mqt6124Igdq8/Wz+WN+ki4Cx5s5APTc3OTSfOF6p+NhqPbS8mA4hIKEcQ\n",
       "LBz2y2TNZnuVkORiAAyOBpwvWptPU5XT5yA2TLZ+797HYjCa1eMUe+4sFUJFhOsPyIaKGJViL3Vl\n",
       "p6/eTF5KlvXz0bc9H0EJJwbXqK4kM8jUDSAloPf/zLj47UYl0FlOMyEfuHyVXuVhITn5TcF2AA20\n",
       "GasUn9P9Qn4UFdhZayWTJiJExCjWoCdSOO1sH45Oq2mF1I+0Cgmu3VrkSYPU03k/QQAAAGRBn5NF\n",
       "FSwz/wIXhxCa8ktVq2hf5LstsWAAsONpMIPAoLuaQgHRtfuUcQSKdR6yQpJH/41Lo4ySHT26VXzf\n",
       "DD9R9Y0Ns3WJX+VeFfWEwVLEPUSKFp+sPEBDpsCaPxvnNvw8GbdAAAAAOgGfsnRCvwAX3913apI7\n",
       "iYJTuxB6MvUpTfpZQhq3AAfg5NaHeVqcjnF7IOVHaVZr0hPURmqH2dVtNPAAAABTAZ+0akK/ABfn\n",
       "QzCHGJwjv56RYJfLSoARcLMtmRUOSLcIK0dKaxuc5LQrYq7L7wzCwFNnBoj9t/I7diQN+JL9A/wh\n",
       "YszHZxJUAPSrxJ24LtD1c8EAAADTQZu5SahBbJlMCHf//qmWAAALcKfw0dAC/Hsr8jBrt3lh1Nzm\n",
       "owjurdf4lF8NFV1c1D7W/ycSa+qPBAgsx6mibL5PSJ3aMA0QMMzkT0Em+g2nGuPH1MKSsVy9r7ZC\n",
       "Fuq0kQNhCLyBiyjbQj8YHmVpK8+tP4c7E1drzwgaAF8bG0lpSycDJ/mY8E7uEx0k5kULVJdZXqBo\n",
       "2zmiLd+dQ5c87FoDeGnK4MX9hMbBDtagQMXlGD7TW6k1LwG4PYmQKAMkOdINP097XSyClWcCgr6N\n",
       "LWmnHQAAAHFBn9dFFSwz/wIXhxCa8ktVq2hf5LjXIqDT6laCgAtin44sGzTZfpM1k20QOAOxe6RL\n",
       "EYznh8BqLZKtS+yfOEk3avcX7mBVplrpx5NPSPjFoW3JCv62Drih0z/VJf3jXs7tko3v63Cp5D8Y\n",
       "TwMkLFwxOQAAAEcBn/Z0Qr8AF9/dd2qSO4kseKbACwriAKOE96hYUJSsB08XiPK50iTiJP9ZRA9K\n",
       "xJffHLGiALyETSefLsThDOU7RywNzNi74QAAAEIBn/hqQr8AF+dDMIcYnCOQ+Wjj2Z5fvEgjj0hI\n",
       "AQKZOgiiA+ED14lGHVXAophQtYZRyTRV/AlpRGDdAHbepzL/U6oAAACmQZv9SahBbJlMCHf//qmW\n",
       "AAALbq/DbAESjRhpovtpk96zRd3h3EXARpv95dOkHBOkBwvpbinL8RLuL2cFbBP+8SjfQXRSrKKn\n",
       "PhzVDmZ4iD7UU+lL5OW5wYzQs77eJM9ZpefSB15yzk2HLSwgiyJEPfUSGUta1rklJXl6qsh0BSuB\n",
       "YKsVaFRZqwZxQwoUAWE19ZwFTl4gMbDDz2z36DC4T200aVdt0QAAAHFBnhtFFSwz/wIXhxCa8ktV\n",
       "q2hf5NBaWH8bwARkbDHBRu3nFjhbdeVCNQbi7NIvhoX/EbMykscZFKDTtlE6/yMuLfi+g+8BuooX\n",
       "yPFMSxAMkNjduR+BKL047PTvJIOS6sfQLTXPRriatUGlZDGV0znXsAAAAEoBnjp0Qr8AF9/dd2qS\n",
       "O4k9gaAFdiAx72AA/PKV5XxaLew1gi9dpXsHchmHILDY6qlSyI6EWuv/uTCRo6jKKuEdB+qGOSoP\n",
       "FlNY8QAAAEgBnjxqQr8AF+dDMIcYnCPDjW0QAjqOYCdkiYsLG6JeGHToL0QyPCuYdisbMqlaMcXK\n",
       "bYK3XL898HQ7ZfNPvwZgPe8As5pO0OUAAAB/QZohSahBbJlMCGf//p4QAABYgWi/DVNTCzztKywi\n",
       "WeO32X4ATH7F4ktW/ddAVcBKOrW7eLSYJnWDRS6ksW0Xk1pZPDn8UVEfYpIWLKeJly1T7ReYmfOI\n",
       "fyD5eI8oAl0vjit4f0xDyIjnxNpUshvgynbAvfUVdBfFmUTZRotqOAAAAGhBnl9FFSwz/wIXhxCa\n",
       "8ktVq2hf5M9Xa8QAX4JZ5GKBw27ZRByZntyhegOFctXs9JJWpl8dg9mmg+cuRFlHNSnQnsSuQJ8i\n",
       "6H9r3GR4M1gRAOn5YdaUKmNohd/BCRNxnFAFy8HD75y6UAAAADkBnn50Qr8AF9/dd2qSO4lfbZzE\n",
       "4NoAuHyF75xRKbmwANE/5bR2h7YHKxBtdq1t9ZXSf4lMP500w+EAAABGAZ5gakK/ABfnQzCHGJwj\n",
       "rbi32iKnsICOh+DNBPjXiAEL1OwOnwLSZicGZQs1rP8T1a6lhwEJM+tLLJmpQCh3oUV/Y63e+AAA\n",
       "AFZBmmNJqEFsmUwUTCv//jhAAAFhkKpFBB1HyhS6JG1CurFyIzalAA0NNkKzOqjcg2dNslDOwukq\n",
       "CW+ZBIFQxryUtSCmmxFPqcVSb0AjEYocihR21qn/wQAAAFQBnoJqQr8DnmYxsiNVo/d3wXJWyNcs\n",
       "QAsE6jhQO4XNYD+X2dgLpqrVrM+F6fu5Tz4D5XwinBRji6mCPNakogwEdJMkDmZ/KrSQvniCJXQ+\n",
       "Y1XjztUAAAfGbW9vdgAAAGxtdmhkAAAAAAAAAAAAAAAAAAAD6AAAE4gAAQAAAQAAAAAAAAAAAAAA\n",
       "AAEAAAAAAAAAAAAAAAAAAAABAAAAAAAAAAAAAAAAAABAAAAAAAAAAAAAAAAAAAAAAAAAAAAAAAAA\n",
       "AAAAAAAAAgAABvB0cmFrAAAAXHRraGQAAAADAAAAAAAAAAAAAAABAAAAAAAAE4gAAAAAAAAAAAAA\n",
       "AAAAAAAAAAEAAAAAAAAAAAAAAAAAAAABAAAAAAAAAAAAAAAAAABAAAAAAbAAAAEgAAAAAAAkZWR0\n",
       "cwAAABxlbHN0AAAAAAAAAAEAABOIAAAEAAABAAAAAAZobWRpYQAAACBtZGhkAAAAAAAAAAAAAAAA\n",
       "AAAoAAAAyABVxAAAAAAALWhkbHIAAAAAAAAAAHZpZGUAAAAAAAAAAAAAAABWaWRlb0hhbmRsZXIA\n",
       "AAAGE21pbmYAAAAUdm1oZAAAAAEAAAAAAAAAAAAAACRkaW5mAAAAHGRyZWYAAAAAAAAAAQAAAAx1\n",
       "cmwgAAAAAQAABdNzdGJsAAAAs3N0c2QAAAAAAAAAAQAAAKNhdmMxAAAAAAAAAAEAAAAAAAAAAAAA\n",
       "AAAAAAAAAbABIABIAAAASAAAAAAAAAABAAAAAAAAAAAAAAAAAAAAAAAAAAAAAAAAAAAAAAAAAAAA\n",
       "GP//AAAAMWF2Y0MBZAAV/+EAGGdkABWs2UGwloQAAAMABAAAAwCgPFi2WAEABmjr48siwAAAABx1\n",
       "dWlka2hA8l8kT8W6OaUbzwMj8wAAAAAAAAAYc3R0cwAAAAAAAAABAAAAZAAAAgAAAAAUc3RzcwAA\n",
       "AAAAAAABAAAAAQAAAxhjdHRzAAAAAAAAAGEAAAABAAAEAAAAAAEAAAoAAAAAAQAABAAAAAABAAAA\n",
       "AAAAAAEAAAIAAAAAAQAACgAAAAABAAAEAAAAAAEAAAAAAAAAAQAAAgAAAAABAAAKAAAAAAEAAAQA\n",
       "AAAAAQAAAAAAAAABAAACAAAAAAEAAAgAAAAAAgAAAgAAAAABAAAKAAAAAAEAAAQAAAAAAQAAAAAA\n",
       "AAABAAACAAAAAAEAAAgAAAAAAgAAAgAAAAABAAAKAAAAAAEAAAQAAAAAAQAAAAAAAAABAAACAAAA\n",
       "AAEAAAoAAAAAAQAABAAAAAABAAAAAAAAAAEAAAIAAAAAAQAACAAAAAACAAACAAAAAAEAAAoAAAAA\n",
       "AQAABAAAAAABAAAAAAAAAAEAAAIAAAAAAQAACgAAAAABAAAEAAAAAAEAAAAAAAAAAQAAAgAAAAAB\n",
       "AAAKAAAAAAEAAAQAAAAAAQAAAAAAAAABAAACAAAAAAEAAAoAAAAAAQAABAAAAAABAAAAAAAAAAEA\n",
       "AAIAAAAAAQAACgAAAAABAAAEAAAAAAEAAAAAAAAAAQAAAgAAAAABAAAKAAAAAAEAAAQAAAAAAQAA\n",
       "AAAAAAABAAACAAAAAAEAAAoAAAAAAQAABAAAAAABAAAAAAAAAAEAAAIAAAAAAQAACgAAAAABAAAE\n",
       "AAAAAAEAAAAAAAAAAQAAAgAAAAABAAAKAAAAAAEAAAQAAAAAAQAAAAAAAAABAAACAAAAAAEAAAoA\n",
       "AAAAAQAABAAAAAABAAAAAAAAAAEAAAIAAAAAAQAACgAAAAABAAAEAAAAAAEAAAAAAAAAAQAAAgAA\n",
       "AAABAAAKAAAAAAEAAAQAAAAAAQAAAAAAAAABAAACAAAAAAEAAAoAAAAAAQAABAAAAAABAAAAAAAA\n",
       "AAEAAAIAAAAAAQAACgAAAAABAAAEAAAAAAEAAAAAAAAAAQAAAgAAAAABAAAKAAAAAAEAAAQAAAAA\n",
       "AQAAAAAAAAABAAACAAAAAAEAAAoAAAAAAQAABAAAAAABAAAAAAAAAAEAAAIAAAAAAQAABgAAAAAB\n",
       "AAACAAAAABxzdHNjAAAAAAAAAAEAAAABAAAAZAAAAAEAAAGkc3RzegAAAAAAAAAAAAAAZAAAEuMA\n",
       "AAIcAAAAhgAAAFcAAABWAAABDQAAAH0AAABfAAAAZgAAAOQAAACLAAAAXAAAAFEAAAC4AAAAaQAA\n",
       "AFwAAADxAAAAdgAAAFoAAABOAAAA4AAAAGMAAABSAAAAxgAAAHYAAABHAAAAUAAAAN0AAAB8AAAA\n",
       "SQAAAD8AAAC+AAAAWAAAAEYAAAC+AAAAcAAAAE8AAABAAAAA1QAAAG4AAABAAAAAQgAAANgAAAB4\n",
       "AAAAQgAAAEIAAADkAAAAZwAAAEEAAAAyAAAA9AAAAGUAAABDAAAAPgAAANMAAABzAAAAMwAAAEoA\n",
       "AAEJAAAAgQAAADwAAABEAAAA4QAAAHIAAABEAAAASwAAAOYAAABxAAAASAAAADcAAADXAAAAXwAA\n",
       "ADcAAAA4AAAA8gAAAFwAAAA/AAAATQAAAOAAAABhAAAARAAAAEUAAADuAAAAaAAAAD4AAABXAAAA\n",
       "1wAAAHUAAABLAAAARgAAAKoAAAB1AAAATgAAAEwAAACDAAAAbAAAAD0AAABKAAAAWgAAAFgAAAAU\n",
       "c3RjbwAAAAAAAAABAAAALAAAAGJ1ZHRhAAAAWm1ldGEAAAAAAAAAIWhkbHIAAAAAAAAAAG1kaXJh\n",
       "cHBsAAAAAAAAAAAAAAAALWlsc3QAAAAlqXRvbwAAAB1kYXRhAAAAAQAAAABMYXZmNTcuNzIuMTAw\n",
       "\">\n",
       "  Your browser does not support the video tag.\n",
       "</video>"
      ],
      "text/plain": [
       "<IPython.core.display.HTML object>"
      ]
     },
     "execution_count": 45,
     "metadata": {},
     "output_type": "execute_result"
    }
   ],
   "source": [
    "from matplotlib import animation\n",
    "anim = animation.FuncAnimation(fig,animate,init_func=init,frames=100,interval=50,blit=True)\n",
    "HTML(anim.to_html5_video())"
   ]
  },
  {
   "cell_type": "code",
   "execution_count": null,
   "metadata": {
    "collapsed": true,
    "deletable": true,
    "editable": true
   },
   "outputs": [],
   "source": []
  }
 ],
 "metadata": {
  "kernelspec": {
   "display_name": "Python 3",
   "language": "python",
   "name": "python3"
  },
  "language_info": {
   "codemirror_mode": {
    "name": "ipython",
    "version": 3
   },
   "file_extension": ".py",
   "mimetype": "text/x-python",
   "name": "python",
   "nbconvert_exporter": "python",
   "pygments_lexer": "ipython3",
   "version": "3.6.0"
  }
 },
 "nbformat": 4,
 "nbformat_minor": 2
}
