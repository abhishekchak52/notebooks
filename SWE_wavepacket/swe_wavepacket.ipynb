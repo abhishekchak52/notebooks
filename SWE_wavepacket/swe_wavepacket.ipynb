{
 "cells": [
  {
   "cell_type": "markdown",
   "metadata": {},
   "source": [
    "# Solving the Schrödinger equation on a computer"
   ]
  },
  {
   "cell_type": "markdown",
   "metadata": {},
   "source": [
    "The Schrödinger equation governs the behaviour of physical system on scales where quantum mechanical effects become important.\n",
    "This is a differential equation which belongs to the category of partial differential equations called wave equations. $$\\Large{\\dot \\imath\\hslash = \\hat H\\psi}$$"
   ]
  },
  {
   "cell_type": "code",
   "execution_count": null,
   "metadata": {
    "collapsed": true
   },
   "outputs": [],
   "source": []
  },
  {
   "cell_type": "code",
   "execution_count": null,
   "metadata": {
    "collapsed": true
   },
   "outputs": [],
   "source": []
  },
  {
   "cell_type": "code",
   "execution_count": null,
   "metadata": {
    "collapsed": true
   },
   "outputs": [],
   "source": []
  },
  {
   "cell_type": "code",
   "execution_count": 1,
   "metadata": {},
   "outputs": [
    {
     "name": "stdout",
     "output_type": "stream",
     "text": [
      "Populating the interactive namespace from numpy and matplotlib\n"
     ]
    }
   ],
   "source": [
    "%pylab inline\n",
    "from IPython.display import HTML"
   ]
  },
  {
   "cell_type": "markdown",
   "metadata": {},
   "source": [
    "Next we generate the lattice for the simulation. For now we consider 200 lattice points."
   ]
  },
  {
   "cell_type": "code",
   "execution_count": 2,
   "metadata": {
    "collapsed": true
   },
   "outputs": [],
   "source": [
    "# defining our own kronecker delta and hamiltonian as vectorized functions\n",
    "\n",
    "psi = vectorize(lambda x,p: (1/pow(np.pi*(length**2),0.25))*np.exp(-((x-peak)**2)/(2.0*length**2) - 1j*p*x))\n",
    "kronecker = vectorize(lambda i,j: 1 if i == j else 0)\n",
    "h= vectorize(lambda i,j: (-kronecker(i+1,j) + 2*kronecker(i,j) - kronecker(i-1,j))/delta**2)"
   ]
  },
  {
   "cell_type": "code",
   "execution_count": 3,
   "metadata": {
    "collapsed": true
   },
   "outputs": [],
   "source": [
    "delta = .1 # The spacing between neighboring lattice points\n",
    "L = 20. # The ends of the lattice\n",
    "length = 1. # spread of the Gaussian wavefunction\n",
    "peak = 0. # Centre of gaussian\n",
    "N = int(L/delta) # half the points of the lattice\n",
    "momentum = 2. # initial momentum of the wavepacket\n",
    "rows,cols = reshape(arange(-N,N+1),(2*N+1,1)),reshape(arange(-N,N+1),(1,2*N+1)) \n",
    "lattice = linspace(-L,L,2*N+1) #The lattice points\n"
   ]
  },
  {
   "cell_type": "code",
   "execution_count": 4,
   "metadata": {
    "collapsed": true,
    "scrolled": true
   },
   "outputs": [],
   "source": [
    "hamiltonian = h(rows,cols)\n"
   ]
  },
  {
   "cell_type": "markdown",
   "metadata": {},
   "source": [
    "Now that we've computed the hamiltonian matrix, let's diagonalize it"
   ]
  },
  {
   "cell_type": "code",
   "execution_count": 5,
   "metadata": {},
   "outputs": [
    {
     "data": {
      "text/plain": [
       "[<matplotlib.lines.Line2D at 0x1ed654ff748>]"
      ]
     },
     "execution_count": 5,
     "metadata": {},
     "output_type": "execute_result"
    },
    {
     "data": {
      "image/png": "[encoded data removed]",
      "text/plain": [
       "<matplotlib.figure.Figure at 0x1ed65407438>"
      ]
     },
     "metadata": {},
     "output_type": "display_data"
    }
   ],
   "source": [
    "eigenvalues, eigenvectors = linalg.eigh(hamiltonian)\n",
    "index = eigenvalues.argsort()\n",
    "eigenvalues = eigenvalues[index]\n",
    "eigenvectors = eigenvectors[index]\n",
    "plot(lattice,absolute(eigenvectors[0]))"
   ]
  },
  {
   "cell_type": "markdown",
   "metadata": {},
   "source": [
    "Let's define the initial state of our system and normalize it now.\n"
   ]
  },
  {
   "cell_type": "code",
   "execution_count": 6,
   "metadata": {},
   "outputs": [
    {
     "name": "stdout",
     "output_type": "stream",
     "text": [
      "1.0\n"
     ]
    },
    {
     "data": {
      "text/plain": [
       "[<matplotlib.lines.Line2D at 0x1ed658bbb00>]"
      ]
     },
     "execution_count": 6,
     "metadata": {},
     "output_type": "execute_result"
    },
    {
     "data": {
      "image/png": "[encoded data removed]",
      "text/plain": [
       "<matplotlib.figure.Figure at 0x1ed65477048>"
      ]
     },
     "metadata": {},
     "output_type": "display_data"
    }
   ],
   "source": [
    "wavefunction = psi(lattice,momentum)\n",
    "wavefunction /= sum(absolute(wavefunction))*delta\n",
    "print(sum(absolute(wavefunction))*delta)\n",
    "plot(lattice,absolute(wavefunction))\n"
   ]
  },
  {
   "cell_type": "markdown",
   "metadata": {},
   "source": [
    "Now that we know the wavefunction as a linear combination of basis vectors, the time evolution of the complete wavefuction is just the linear combination of the time evolutions of the basis states. Lets do this for 10 time steps."
   ]
  },
  {
   "cell_type": "code",
   "execution_count": 7,
   "metadata": {
    "collapsed": true
   },
   "outputs": [],
   "source": [
    "def Psi(t):\n",
    "    sum = zeros(2*N+1, 'complex')\n",
    "    for n in range(2*N+1):\n",
    "        c = vdot(wavefunction,eigenvectors[:,n]) # nth expansion coefficient \n",
    "        E = eigenvalues[n]\n",
    "        sum += c * np.exp(-E*t*1.0j) * eigenvectors[:,n]\n",
    "    return sum\n",
    "\n",
    "def Prob(t):\n",
    "    return array( [absolute(Psi(t)[i])**2 for i in range(2*N+1)] )"
   ]
  },
  {
   "cell_type": "code",
   "execution_count": 17,
   "metadata": {
    "scrolled": true
   },
   "outputs": [
    {
     "data": {
      "image/png": "[encoded data removed]",
      "text/plain": [
       "<matplotlib.figure.Figure at 0x1ed66be5048>"
      ]
     },
     "metadata": {},
     "output_type": "display_data"
    }
   ],
   "source": [
    "fig = plt.figure()\n",
    "ax = plt.axes(xlim=(-L, L), ylim=(0, 0.15))\n",
    "line, = ax.plot([], [], lw=2)\n",
    "def init():\n",
    "    line.set_data([], [])\n",
    "    return line,\n",
    "\n",
    "def animate(i):\n",
    "    line.set_data(lattice,absolute(Psi(0.05*i)**2))\n",
    "    return line,\n",
    "\n"
   ]
  },
  {
   "cell_type": "code",
   "execution_count": 18,
   "metadata": {},
   "outputs": [
    {
     "data": {
      "text/html": [
       "<video width=\"432\" height=\"288\" controls autoplay loop>\n",
       "  <source type=\"video/mp4\" src=\"data:video/mp4;base64,AAAAHGZ0eXBNNFYgAAACAGlzb21pc28yYXZjMQAAAAhmcmVlAAA2B21kYXQAAAKuBgX//6rcRem9\n",
       "5tlIt5Ys2CDZI+7veDI2NCAtIGNvcmUgMTQ4IHIyNzYyIDkwYTYxZWMgLSBILjI2NC9NUEVHLTQg\n",
       "QVZDIGNvZGVjIC0gQ29weWxlZnQgMjAwMy0yMDE3IC0gaHR0cDovL3d3dy52aWRlb2xhbi5vcmcv\n",
       "eDI2NC5odG1sIC0gb3B0aW9uczogY2FiYWM9MSByZWY9MyBkZWJsb2NrPTE6MDowIGFuYWx5c2U9\n",
       "MHgzOjB4MTEzIG1lPWhleCBzdWJtZT03IHBzeT0xIHBzeV9yZD0xLjAwOjAuMDAgbWl4ZWRfcmVm\n",
       "PTEgbWVfcmFuZ2U9MTYgY2hyb21hX21lPTEgdHJlbGxpcz0xIDh4OGRjdD0xIGNxbT0wIGRlYWR6\n",
       "b25lPTIxLDExIGZhc3RfcHNraXA9MSBjaHJvbWFfcXBfb2Zmc2V0PS0yIHRocmVhZHM9NiBsb29r\n",
       "YWhlYWRfdGhyZWFkcz0xIHNsaWNlZF90aHJlYWRzPTAgbnI9MCBkZWNpbWF0ZT0xIGludGVybGFj\n",
       "ZWQ9MCBibHVyYXlfY29tcGF0PTAgY29uc3RyYWluZWRfaW50cmE9MCBiZnJhbWVzPTMgYl9weXJh\n",
       "bWlkPTIgYl9hZGFwdD0xIGJfYmlhcz0wIGRpcmVjdD0xIHdlaWdodGI9MSBvcGVuX2dvcD0wIHdl\n",
       "aWdodHA9MiBrZXlpbnQ9MjUwIGtleWludF9taW49MTAgc2NlbmVjdXQ9NDAgaW50cmFfcmVmcmVz\n",
       "aD0wIHJjX2xvb2thaGVhZD00MCByYz1jcmYgbWJ0cmVlPTEgY3JmPTIzLjAgcWNvbXA9MC42MCBx\n",
       "cG1pbj0wIHFwbWF4PTY5IHFwc3RlcD00IGlwX3JhdGlvPTEuNDAgYXE9MToxLjAwAIAAABCpZYiE\n",
       "ABD//veBvzLLXyK6yXH5530srM885DxyXYmuuNAAAAMADN2InuDwrXQ9FeAAIdqvwlYK4gPVgbJx\n",
       "v1vaou3qvVhYFrNYg0177+LUU8XdoinQ0vVWPaHLjkJ7asdteFQxMponprP2TmHoco/0yWlMh0gQ\n",
       "SGrYheewQoVT6m5rI/ZPtCmcvKgMJEf1+4dPqzhCmoLon4DQP6oT2u5KpY8P4OuoPIZEq0Hq3D6n\n",
       "VqtKV98X0TXR7rnMY2/kk5Z5gMMg/+M13p+0kN6u2ipkqOMRzHEmagyXmVgZibANWsTimM9eZvNj\n",
       "+NLOzHFFFaliKcfa1tttzPYWl4K1/SipjsIMXE7rnwVhWgKmOegYDZv2NLDA5lxcn8CBTtp/2PO9\n",
       "SYQL66qflOwrYcxh/uf9HHPG2qaWF9TaAE8kzbWTslw5bNQUqJb0xBK7ouhpEc2jnvFbwZpvRzqL\n",
       "CflXWZSMBWcmC6iVwNDG84bYWk6kkblt1lsXYZOuaYkFZK3h7KQYNhKCRg7Lw0SvfVqq11Y7ep3R\n",
       "TL+wv83csi07K7ZwTLqlzZVVNV5IyBOMSGayGREB1kwp1zXABrri7h8FtTKC/uPpvl4kG1IjSV3w\n",
       "NZUZ/BUd2Ojetk66QPa0bmFBxRY0Q0VfPdMOHWOAJKNfFjyhuRa/SzwXJWCyFScG065rukPvnxXQ\n",
       "+pe1AmGRszGLEhyIoDEOgZa8laBzS/IGNIaN/Lmz8VgftZd5l79W8yZGMEvYoNrgbHgh9bPBFTYI\n",
       "v5M3pWYoGApIBaBj3SbGnOojHq9FL4IbYlkb5xkjoMlCgaj390wXDc4bzbUylH3sQlw2ueMxwnuX\n",
       "iHn4d93kLGpVdcNV9bOfHRCBf6MCsxCP99LXAILVGK6srSXyTa2Kc+W24J7jzblTsTgEfA6OXPuS\n",
       "AfXPeYM+dmdj6TZ8FCPARS4XGvGAJWbxjWK4vF30qjHMMNkLEEUI+TC085J2+EJ4j73frA47zDbG\n",
       "XNPataAYDNZeDQgInb9gz12Jm6b04kDreFut9f2CslGJxBGJ55hRvjSXPmIDyRr+T/NP3S2HVafU\n",
       "0BPFu/OLY0dYKeV5AANqAebqwuuSLJO666L2touRWoCsKHXR/uWFifxaJQ6519hLrq9LUsjOVPS4\n",
       "EKsQXpY9pxcmyreP0DsNICRZayl39qZRbx0Yzj13xUuQwAnrMe58K1w/6fJkuTdVb6W4z6iG152q\n",
       "WI+b2S+LUrNncv4X8gXPHr8jxQWrhzXFB56VHQVkhOyfoBhL/nHcT7i5rIcLzntzYqSxe/1y9l4n\n",
       "YnfBiGImFE36qljqjkjVvOuM2zC8SgP54UenrztF53tYxasPkxeToBzkEfFNexfeKrpyeJcQf/Y7\n",
       "CR9Seu38kFcg364FSCLabRqaM4cf+u8H/Gzvwic+PvtIugYFMrH5d67XKc6krnu4G97prvZ3OytL\n",
       "lGqewhyeiCX43HlSdCfvBY9j4kJBQjyTzXIStM6LZ59K915YVcT5x0ncic7y3zVo9LfxwIafMg1N\n",
       "sG2Qo1MPd5mXaflCVkIgmQVeAwRB2cK6SHxZL3KKhKUhYvAWTO6wYoKRdYLvJZpBunaFiuR5jjEW\n",
       "MQfGyawWtGcUn4SR7G0Q57Mj4/ErMX/f8T7B0vwNMsxgPnaMwu30XSWRc0ehZGqPItJe+JhqYemi\n",
       "UD8TkSEjaoso52tN7Fc/WN5VEP37/TCD80yYD1HgKBmb5lojCj78wZCeUAEEIKQLMRrnnULqG9Y0\n",
       "q7pCKk1Mn/wAeQu5gvRsy0L9ED03jCSlbbZbrn12TKKXnQzezUDj13qAD+pCFwO32UHnGzn9Sgr1\n",
       "mHC1fGinqUJxIyjazXkXI9zLUZyrcstN8grfhvNJUe6I8uUcXq/0iVRHglg1dXB6Kc25oIki9AbI\n",
       "HYcYWCfe8ZNK/iuUmbTf5j04+rGIWLQB6+SP9hQqXUCLwEmp4rv6E351yF79JuBphKZyaQeyEJFF\n",
       "fchlCi6AK8tPS5BLEy8i+eQAahCWvAn5gV9aRiLmc6VuggKoyOo0Qc99ZYuSIX7wqCZsRHRA2TS4\n",
       "xac6BWizyR2n+Sx4gdzNJpTzRhCb4ZSjww9KZs+gKXrB5MHU3+Ik3zgf18GLlaVA9aGPWlvVwQdw\n",
       "7wY2awHTwQo7Umo3ndQYS0m5gMYpoH4OHLoYCBpCjq0aTk+Z6gCnNG0rfJUE+JaWx/B69iML0KwP\n",
       "pS5NWxPRyg4q5bmZKW9nR0Rl+ATq5uJ1W82BUyZFXy3evIyz82DFlT2Cfrl1aGVENgW3GI+El3R1\n",
       "gKlt1Z5zF1Y+SUpxcKW5SPHf1eZMKeFojKxjnLseRsLU1DK3ep3NdWfz4d/ehxu6soJP2dlVLpnj\n",
       "eROBcizK8PTPuxpoHJjWwZvuBabGfLgBFIbogYD4QsOwN8PbVDrg4uwOSwVZCqILgin0wYT5jqrH\n",
       "mAuYlh4cZWEHasl3V++PhyvfPFKZxf9YGq878BlafzVblb1pqeZ2iSof7gKRjBlhuUdTpwJyvjUx\n",
       "6fxkhDFmRUNe74XMM+0a3GDAa4rc8IPhOs8fhVtXGBxNHBSu+1e+FmUxK9eH7s283vNv798OHpvn\n",
       "q+LVl3X868yhU6ncpf1KlKSR9hWW8xygS4ed3nKIUzUhk6FtO1u/x/cHjgHCpaxfdiJqHobBn0Xc\n",
       "DFzyooEgdngFiwmKDZddedNut+uAH+/hut66nY6owWJttZAqyWWqLhO4Kw7Hf2ciQ95suZC7Jgvc\n",
       "kzc3z86TsrTGjPAsShLCChLvB8xzaAjyGQcP0RaHUS/tCzZskGEhh69E4mle5RMMyQyN51EHpAFU\n",
       "nWP+wfboUnjGTwEB2JyBBWuWn8TStU2fNhNlz/17b9M6W4FQCU+D8TKtpM44BjeQyYMKeqKrGsmu\n",
       "7tqwJrKZynoxZDyYqZPE4oQFNqv/y9vPyXUfXb5VFf9EC3nWnuLj4xSaqvu6Y6i4Ge5Efq2t8PHt\n",
       "1McLdFiGCqB1PopP8qMEqojBpDBM2XvxlWL91w/N9wtxtciF96RY3C+C2D3AE2emdhSiIIMXFsqW\n",
       "lOoAgrt1oEHwm6y3aSQYQKEaDEo1S7gdmBxDymWcfz/amm6bYJhDV1onBOl3QRhvoYYVSzm/jF/n\n",
       "AA3JLoHQz4mV4JnNJWgyWNhEIotpSL90GIfVMW2+DgLlWCkia+peQoQeyFjWJUIiDRzEL33MJtx/\n",
       "1qDO+1GvA7y+a75po3iM7RilF364/FqDedBSFLbaUyCNR9Ev/D33u8hRrEF28dg0UUmynWAG3g06\n",
       "0a3TmXqUo0ARhSXBiuO/Br9Ms/6vinVnpwfgVYoa4avkOipxPq2zwcCvjQrVcLbLLiLVRwflmyeE\n",
       "luFhqT9VwPZ28I0dH8yIcE4pbJI6ZHo48hlNNw1bC8Sd7CV1vMWisWsLj/vF5NbWK1g7eQ8joQTu\n",
       "0XHkWqLXktBwFpBQNmSedUj9x4yh0EIdzIy71LS81KO1LUkusTNF+wD14OiSLSG/YxJt04VjJY1g\n",
       "HmJLKYZnWKfdA35ws92Na1GSiVIEgjTMKQrb8UbtkbwWIEc2C98f5FhVpXmYsNdpbhdWX+7Ix66E\n",
       "DQEQjAqzB7iH1gA3BaYpnI28V+JmY2McyOmmxihnw09cEjaijoYHV6Aq82ONHIIwPldyuAip3Erk\n",
       "xW+ELWJTT418rjIUiKFX1QniLL71ahNqMlZ1APeL76l2/TRP8poJv4FGQ5UwPe+KHrjUs2NLmFW3\n",
       "UErqK5C7iFzgqjXXX7qWa0KRJpLFgAyAozJIXyd6l1E2+JxKdDcens7+3g0bNANLJyPP0MdSv6aa\n",
       "+MIuHTNYMO/x2v7Yn49SsmPRJ+cAI3s0imzx+fi6QJyLlYCCyporwqZ/KPWSS//0tBhUH4Ox0uwO\n",
       "+9cs3wV86vo5GW3dAD/oHMspuKYqPwSYp0oY9Cn0P8NOig+81oCf0jlEMqFraJ/wDXztpldT2L9n\n",
       "McV3bp5ApAJwhO/6J9S5HYbwwA4fRN+/eyqKUjOdpx1ekBzNXiWOEaoBcb0tui6mHFbuCK2a22+j\n",
       "uWimP3A1r5QscGSAzao4/BKoOa91d7S/aOacR36v361bjt1rkQEDg+e+Q2yAySk/9aGCK3lY0jZT\n",
       "YjTq4VhXuydjLTO5fmXA2zg7En6e4/kT/RxWz/6y1CW512z4h1I026yOAaJ6d8XqNmOTvBGTReGZ\n",
       "6euX/xypj9eKIVHMrbFiCcRb/pvCpaleUWx4BF7E3A2lyJHy0n+/Yt1+6xtReTpIF22JPk6e7nze\n",
       "blD+m8m+whjlDUjqR66xgRk+vkMNe0jjafW4pfTegI0WA2NegXpf0eyYdNUbprhZc+SCvG7BGnLQ\n",
       "7qWB940RILRrbwNQdhme591KUQaroUk6QWJNAh2OP1azqF5G2RYlT0xQa1SRvNjzN5N6KCfuIwfX\n",
       "UWvyyViwZFPYxOJwosNIPPUzawMggcxws/5F8s0msdIYUYOhl6VUZUH3iZ4O8pj5jTt1zw8T0mi7\n",
       "t2taDC9Z8DOuJSNuMI73wFaNQ1LUN3PQQATl+G3DPdvOyC2RjgEZ75+aaCHWWCw0gB4oeyhhEbLh\n",
       "FcY2Pd8VRkbO9loNuCf0ztnEnThw2G++deUQ4w3r+pbeeqSU6DYhTdrg5Fi8LE6ewqLAgsWM7j4z\n",
       "u8wpl0Pv5m/dC1/9qBb2/yn2FAl0Tal0ARKFndLF+yPbjganwxOqUwWUj+rWHMDIHjeuu80oKVqs\n",
       "rjgs0Jyf2W1ah6ms3XlohikrOUVXWqf8gxAmUX8qio4rtB0taotLHIi9YXlx8VWAqpkN3zpXtr+m\n",
       "5vLyYWUdBcwO9YdpSMe9HTNVvyV15nQ+Ddsm9/7C1YCX+JjCKekSn/zjKEJKDkLNcTOxGgeItXmb\n",
       "sPQmDWr3zhII+kl90XJv+ArtxG2phOliBfne7y+p7ch7nCv92WuswnGDHTdblVtfK7mjNq9hBIuB\n",
       "jRe4HLOCiHwPMr75K2+vVBrkty0CcwviefeHzDxJkj2BRE29QMQdrjleq49Xu0B3xj9Ixgi6H7lN\n",
       "LgoeayZkoeAdP/B3ao1TdvDPqgqxqxGs4LQixRYJqvtjG3BUuMu4rXkJo7BwtPqLBiYwbktcAOHc\n",
       "pDJY/qxBGrFi8QE1AqbQYQzHxcij8DPsqyU8vTtNJz/j2IeKuhypEb4Joa81kZzmNXvrMrAUYvR8\n",
       "B3liiRKJiHUFFK1RQDeL3DqbC7HLyeGSBo1Z0s7Vkn/L3aie5n7M601VICUHO7ewputrogAMpJf4\n",
       "ngUo1JFoKXxvgeEk3KqyXyikSm9wvhn1N6xP0+i4NAmW07vXQrBhqog1yXqxTGxdSTOWP16s5bXE\n",
       "bFz5znbOOFwudBFgxY0RgkIpEOMi3b0bQ+MIAnw9xc32LuVtWRxzY/vSJIA6iMR0JBExmFhbUGwX\n",
       "u7n3pTBZcl9WNL5KtCpO7NCWW4WNYOYe2Rs9O+zBXHjbg4xBy5/SXjvfTlrSZjJUsxQtjrx9byXf\n",
       "DyDNIsdQ5yrJPMhd8GKM7K0SlKsqOGsWi+Qr8K1lfXHdgAbEEFsvtJDPho/1wP8Y5M0z2FdCrR09\n",
       "cirxSWRUWaY4X4KJ7az8wRQdFByiFEzd30y2YAPzZRPcPB+XNr+ifLgserZ4VjSH3/kTrBJSCGJt\n",
       "mP9D3YBQlHHdT7Gjax49m5LHC2ppt86PPrOhdEHa4AB7P3itiXgUMAAPWWsAAAKDQZojbEEP/qpV\n",
       "AEkLp4BSa4Z2PhM/l9vrFazoj3d/pPDRQgLYgSJzOLTsn3zjNR91aTq0KnWk6Ca+aCssrJdMynUJ\n",
       "Ex6jGrOi3BZ11ZlPlI6qK9pZQmbrpCowuIVuWII0gOOumhYGQqQeZR5f6JPUQNIHi0KE4UbxkWtF\n",
       "SSBvqv3WvKOHsC1spR9C1pGWGlI9yRaXoRUPMabzPcT9PvFpIERlbA9tQeOEA3T1mLPei+S4Z3Xc\n",
       "GfWS6DEmVAQxHZVjwkEPJx9/KRNKYJm0WxsRkV17FC+hNaBebuwAhunXG5s0YWRGY5xwFpFoLMH0\n",
       "1i8mL5S71IWixtMuHlkTuEA6uH6uDrxVljf7Hk8RG1eoAVUjL0VTGnMMijT8fZk8rkjrIhyENeMF\n",
       "/HkCMv3Qn+7/snYckNRD23xTfH0wDuQmaWpayVUHoxGZdfh4yhIYsPl+HXQGYpiad5ggnl+UdEtF\n",
       "NnQDr6IqfEsnEJF4BDC27CN23wP90wl4K0+IzeGpYliQlW3I/4I1OnFzMbZ3LGf7l5qCffRIg9fS\n",
       "jCbfTW1MP7/hOSdAnuj9TAh27MFHCy2rImnPgVgOIwoTxpZrbKeeLwUspDKcay5WHdy9MxgBCQb/\n",
       "j27EIU5ySgT0hnTMPEWf/Q0lobn/28C1B2gS0FyTVGktB59x+HpnJLs+HozVCFeQ1aDpMstk6CLQ\n",
       "JHuwaR1zAWmwWa4/PdwhaEQwbPYOgq55srro7ab2jKNrENmVndLE0uCMz9zNr+cqAz8ZPWYt15Zv\n",
       "1r2Z014K+BW6kNqXqpuZoCL7B8mfJ0OgEDyKSqarQ1lG9ZOq94lkGwLCyIpvdk1UIzyC0WRmaKzE\n",
       "laiNhp2lQAAAAJRBnkF4hv8ApCeejnAU2vYJbnwDgA4f0267+2GKZK30SDYYHAR1RyPYGFeG/9RP\n",
       "rxx1x5r2gzeJpA2MS7S7yygTwkaiEtaAfKamgBLl8Q3th8CCaA6m/xUTRNMhlYe4C6D+5qv9BmN8\n",
       "FvNgPfTcgDAy0VmI5R+oB558c6NC1oSFspW89tLXlnIBWBfb0EZVjMK4w0OrAAAAgwGeYmpDfwB5\n",
       "Ni8MeWWlMAAPMl9s+Yx3jcBuR9xSHEpcsj8vz9K0m3szrfPgQhnqHk6VvSu/EDMr0Kl4EkH8rW96\n",
       "OCX6J4g/mDbDlfXsOqjFqoHZGq4lBQ+ZnTQ43wb7+VJiOFAZNzyoav9Vio2tgYxqXKis7bCTqpS7\n",
       "UMoc0hH7CsFhAAABVUGaZkmoQWiZTAgh//6qVQAt3xQbzeoY94O+D4iX8+a/NHBYAQp8MSD0Rfi6\n",
       "fDQTztafdmpssRy0B4Z21UrC5HjzLj8nouI749OFI00l90vLnb4L0egMfiNLYIAC3lViwaAJj295\n",
       "aU7ySXHP7b68ddDRBo9fztt2ZVF6yxQ0iFupJKWeSx1lHABenrAq9wr5pRtXOnNzB6GUYdUJxYNG\n",
       "+nSDAOSS8ZUGHkOUgHJ4BKlCD15G8nagUNGzm1M5F41fTYWI396AtxDGeIBM+s6W+UiOmJAP21uo\n",
       "JvwC6cN/hRsODPBf91Y3H6tYYaSTBHoh7b3QHc2rd4h4Hi+XratSIT5iiS2CNdNgAO/j3doQ/E2U\n",
       "oQsreQ1x0vkQc4Fbdvfi6mU8FRGc3nXlizqm67YICM/jcg5t4yOM/IDlo6MkgkZkDLXx9dYNSA0C\n",
       "9ex+DgZKbtlDQ/BlAAAA3EGehEURLDf/AHk6wY9m2QG6THgA/g+Y3akqWqUzrOIVlLIQi0gG87Tw\n",
       "JEIL5x4+F6NYQYyCmku8Io7t7nLUCSvEBnnpRzemlEs/yqOznaT03quHyox1N5ynm/VQDo7cwPl9\n",
       "f1joqdFaaW/3LJ/iwvQHU98vQbw2E7q1Ri2DS93Prz7W3cT3SOXU/qprr3F7MeNy6mRJsJB5OEmw\n",
       "Gj5tRZHUGj6tcgL7jxenZA3KiUidRyMp7O43Y1sJjXT24uV7wDJ9jXq30KiXalEoX2LHI1F94551\n",
       "hUeKlY4324EAAACfAZ6lakN/AHZ88CgBNNCaJdwRb1yAqP8K0GqDqpXlOrjijbMPRu3Zinxc7n7W\n",
       "MwsPBnen6/3Ik5M7McoNmTTxAIUCcFuPyT2GjrqnZOPXJ6apsMYR4oeoBeljhbN/LKpVxPQHGShz\n",
       "QwpdtTRjKl4bAsgIyxbgcnhMWoG5KMXX5jcXks9f1ho9cy2C0Rbt94JATx5RTYn9rX7HJ+nn7yAH\n",
       "AAABjUGaqEmoQWyZTBRMP//+qZYAVMVMyucd+635aV0a/3AA3bTFHHsRJNrO8AOAF3aNqspXPvW/\n",
       "BHeMqTOUPBC/S1jDjAyA73aAPiMyua6uYQNSe3s78CmXzqof8II5w4N+OPXqiQKdk8JedfGB844j\n",
       "9KJoAicr8AK1J6t1ZiiguR5jELpf5hV/EKY7zL0BfXDQRtR39QGLSCnr/8yL15H7PD3BmJRVnbds\n",
       "KceStnIjSGRzjUeIiQvykMVbI8tJH8QBYlWh/CjFwpZ3KmtAy4pQXR4KG1I5ylrT8Aw+KP8IN6k9\n",
       "GT7Pb8DajYWq4esQMYB8bhQt0GGKBcnBJ1IqNW+hJ7nPnXUH8XOWns9dkdToPUndOIywNZRqufmG\n",
       "t6g3DEzn8osI0uXgJV2+YqJRV2s6Q4V5TXBReECPDh2V44iTF+RFS/50FtSSykS1hmX3fPTO2Qki\n",
       "AAal3UHBdKOmmy/lTmgnjfJSbCikcns6clBoDSwhJjtra8q8CgrfrZBcUFyVnMaYLQ3DPF4IOGTg\n",
       "SGkAAACNAZ7HakN/ADqsU1kr+S8HXRXRAW0Qsai6a1YAJmrVdFT2Gn9/W5eajSFxq2ES9dWFjhp7\n",
       "JacArpUcd34CjxQOKnb+JaloiVQP83YqinSooQECEQ9rE+FjxBrANuHj83mw9e3k/EBlVXDpazDO\n",
       "v9Ruwr7xDL5FDJrw7nGJzj2JxzQifx/NN6DH34+dHixIAAABKEGayUnhClJlMCH//qmWACpggjEh\n",
       "zxIArVJkn1xDQyDzObasbOMdT9W90Gg5Q3MA8IxyrtLcnBHTe1Xxo+zU6C81iJuX8cv8qZ4ydrGf\n",
       "kDxdZyR7i55xYh5fjrH31jd+wRhgujY01cfyy8FEMMandHegINvPWG04McXRqD6jsCSJUx0iJDYW\n",
       "4bQi62G1zdvcoh0n2NZ9/FSHBQoyZ7hXpTcS4fjMQQbwoS0VnNmsolEbD+ASvCD7nc1/kE3h5g3b\n",
       "n5cfZxFlfVqZwCkcxWEhBK8lOPt3DPjWIsoSb5aVxHVu6PJi7oDugI9SJnAgI1SCX1otctMjgnPH\n",
       "5XMZbgWDNd9OjGGkDpiguT7CJKtgyWKZ3egeQ8xX/63eqSFDjebNDDY5/7CODPuAAAAA1EGa6knh\n",
       "DomUwIIf/qpVAArvw8B8ynBhYH3+58gCNgN1Y/3loK57rPtA5GYwruuVnwV0h4hB8NvEPf3vLHJQ\n",
       "gPzr2jSjA4FW8ziAgoVGbXlptIbFXP/w1yyCb/4hs3W8PWg+0MWXkh3e9jJ14LyrEE1+0K9Q+MS5\n",
       "whbWXl+s3/P7O6g5vFcpto1IW0WatwwY2YEfI3vdmRPW5WYEuv14cEH88UyiknAYfKmtMjNDh9hy\n",
       "KbqdupTrf4x4mLMFxme3R/0SAVicFvlxbIDxCYdDoKQAPk+ZAAABC0GbC0nhDyZTAgh//qpVAAVw\n",
       "L7gIqEAAjKpke7s/A6btbQBdcSHUbia3aYVvGJ5cJhIj4n96xA4EjAC9MlB/Y4398QJvkdtSINEI\n",
       "kcVD2WVXJOnNhKGnlLmSmlPC5ZcjQecF7XN1vA2coLhEUD27ax5H+HMH7//8vxCqWNgfNAuYqqqy\n",
       "UTGoqobzfFTr8OXYz+6+w7+MQxcQHc/HBan6ynM4P7DCr0oXdAWPv1lJYmpxAwIQNxaBLT4JhWQM\n",
       "8MXO+SeBGxJFUIrGSzzBwyBk45LBWhv2w8c/13wR5YnwhlTkU89emU9yU3Tjq6mTG8BlP/On6cqv\n",
       "79YvgVbB3sqCDCDamZO6mcxHTbOkwAAAAUZBmy1J4Q8mUwURPBD//qpVACsfHQjVlzlopd/UdYT5\n",
       "r+V4YJf9/6reROLxYwwdsoIhKW/aRDPAUheXDb0NAgBoaK0CnlBzn9Q7kkxLvvl5TCFfXGa1q2Fx\n",
       "uXiCxqMnOigT1lZnK2jMewgPvM7RG/97kV9C9+DhTi+f3f9KqkAXCI6hTh2XL2q79OJvKpYwkfeY\n",
       "ykaYETiF1uiDEi7hgtaX8F3E5YBS3aKYKIrS7YcCEv/6ve5ecZl/tjP+x38rd4U4Uda8hfYkSrGR\n",
       "GUtsa4zHynslMEna27oQ2ckhuVXSRLhv0GjQlF+UFJXzWHrAR1ModPscCPfds846goSjEVOG1EJG\n",
       "Syfr26n/inZI06aa+t9Wxk0YF5cJvi4nNptPfM5C/PHUMSMaFmZu3qxyFUBA5Nfo/ANGtIOXvBm5\n",
       "fSccNQsq6l5W0AAAAHEBn0xqQ38Ac7uBwTm/YYXFMRJV3g8B2ShmAzACuS0kzVSLkRiKdU6lNG1W\n",
       "nhq1vrBKbbr7Ue7zroyF0pp0vzxuDGNF+SmiAdbwQ8ON8/jGbvz1hQdf9gARXKj7SR97m2UbPZhS\n",
       "ayteiqD6CC1FAqIbQQAAATdBm09J4Q8mUwU8P//+qZYACl888s27IYfK0en0guspaAEp7SSPtI4O\n",
       "XEQzZxoXrlfNcG5FbqNGErjmuzqXO4qHXYVs6uzCe579A31cwpNWJyFxZbhbYxqQSRYGajLtOsfi\n",
       "MMdZ9MtAW5ojv9HXRkTLw+x4M6lNWI1P5BLN7BOkcxb3PlN9LbDDbdCJmISXmKgFhpFGabv/qzE2\n",
       "UfjeWLld7F+vN5TrvUHvAGkrODSNuDXfg4z3ZEYtnQorp1rlEeapxZ+C/PWGTzOznkutCXQAdx8E\n",
       "ugqkwzP6Ezdmxrkmz9ZaCjK3fzIcmxBBT05BFKz5nuko81Uj9JCWxdYP9oYw49wL2EvX3RpTULJ3\n",
       "XNs0bb84ocQZtBeOc36WsQNrrbnOjMMUVo7QebP51L9TYgWjFNAjo5C/NwAAAH0Bn25qQ38ABz+4\n",
       "W2v1HfKzuU2QQJSG0AHyVzaI7rAvP9sLCGwoKooSqViWsLZeyr0QwGLbUYKZbd+hYRtCQ7S2ABz6\n",
       "qY44lKBxKTM9CJVC61fp6XiLirwZO1E+fCa4S2byIgcINmeZN8gxRkkIvVf4WDDBLM+VVwz07igg\n",
       "OQAAAR1Bm3BJ4Q8mUwIf//6plgAFJ3jRpwMAK3q9Ir995GPPXq3rcIfChGmjKeiPk/Tdfo/zWOzP\n",
       "D2m1dN/1DBXNvxLDpHWIaCcIEin2TNX66zJOx1zRpAtHNMnNXJQcEnMWrkqQ9ByZeEwXwPuc2YI6\n",
       "bdwf56OTOd/EwdazHoi5Lj9XOkoWLW5Gzno5dQX+lgbE+c7AFMXtK2gKDvclWp+PPYvFZgebnMHO\n",
       "09AkL6RrXK2JS24z2atPAECCQnVozXe15P+EsFd9DRyNwZEepw3mYHs6AkzPEep5fpzpS7X7X/E8\n",
       "qzaqZ+UF5PAbFwfz8HuA/oChZF+puFI+l7LTna8zM5neYG/nIP/55RmVz5zgh2dhbAVCMGWFdxQv\n",
       "xiZGMi0AAADoQZuRSeEPJlMCH//+qZYABS/hkBs1J7LAYIhOPRji4Yu6FnFZw0YyfaC/VFn/i9Wm\n",
       "R1WEeSUrfMFVRpkg+eAb7OWwkwin0Z67voWeyunjsV8N2uXbBOONLR9gT5IpRqoQFxLWqPfpr3YD\n",
       "0UPBr+m+XDrDUKszkT0EqNcIuj4GIgvpqHf5Dj/TladBEuoXtgU3TaeLx9TCkL5M78WfDiKgqcbn\n",
       "Ostyw1Ib/YL36i0gy696CAEsGKywT1wmLNeJ/JmrMSOANnGXAGaz1otLl6Hc3aNxVNBUvfYUqiQo\n",
       "oWUUQN0s865qb7nF8gAAAPBBm7JJ4Q8mUwIIf/6qVQAAqblUcEdTIgA/kfZHcr3h6W1GskUfVdpL\n",
       "ByMs2776NDIfBdmbx3i8c3kYt1b3JboldvkIp7JNIUUe2b3je+Yo2wGHOD2bVm+1SWT0hYYwg2qj\n",
       "Vh+BaDjQDdeV3mVNgBkHZ8CFHd3+S5+nltF6A1r+c2YvD09FwF/Ett/S3zEUtmeMVNIpadqDE17B\n",
       "kOJTVgieLWwB1eLNEq1NN92CEzoqOnXGyKqK03A7CtguvoMwkptfW9/T3+jHPDSa8KU0/7966orZ\n",
       "SADarKi87WE1UNUwey2q2UW3BkNsX5XLrV7PR1EAAAETQZvTSeEPJlMCCH/+qlUAAKlzRrJJ8AHC\n",
       "wbS1TFbhgxnzVAHQAE932JAqTGpJY4+el9CzLPbdI9ahkoOaOq5ATB+K7WYlwW2JMcybpMnq/r4P\n",
       "nN0g7unYrAqGK+B/bjX/LexSfolS9yQiL7rf1NHTjfiSFLp/r0SiXM6bFQn92f8CwVNdf/IkiDMX\n",
       "+KNCvjbqLEaL/Hrmj56q8Txbg//QiJaymnGZX7TRg5rTgz4+VYAefAWDsc5Vl1fuaGUOVytaUg7X\n",
       "oIMqRulYESpQ7ffAppc3vV9naEZfkso/AurKCtVrsZ3i/UFGohwwuXe3TyCdxddZgOQ9125zsbNP\n",
       "FUIAug2ZAk6UH0q7Hc9VV9PeV1uX2DMAAAEgQZv1SeEPJlMFETwQ//6qVQApvx0Ix/Lp0mpBc8RH\n",
       "Sna7sdVAGhia6+ALSukopnJc24uM7vhGIHRwb/+UQRdSkY6EQfG+1738CEx9lASf0oQa2bdjn40s\n",
       "VANk6gH6hlr8mCnAUpHlzU8zRnWBtaLcY5FZYc0YZEOE3VSIbG+g1UY1Lf5yGkcsHjOI7f4Mjh/I\n",
       "bkv/mE57ME+4itPzXuTL0q3uSackw2j+hsMeMw1xjp3NglAiCVzMXBh70tEdRlmut9pwpFccJzpE\n",
       "3u6xbt/VDXEHnmaA3Fe4b4+cCaDeXeMLnroDY4l6KRmSIWl6MrzYaCTe/IwRfXoi5kaCBpLRTRjG\n",
       "MjYrI6Il9GuaFNxdeo/KY54uXUWsUyLTESNdzQeYAAAAWQGeFGpDfwBw+4CoJzfpDgyvA5R1G1NZ\n",
       "uzlS0sg7uxu30kFEZjjUfjLSW4AfJgxXh6k6lrjDeSBx/pkiQMG1OQ97Ij5epBSCdVj5h6NSFltJ\n",
       "/amR8ponRishAAABdUGaF0nhDyZTBTwQ//6qVQAAVTqQc3Y09Z3UKQcEzy7OoAOOH1uAgRBvJEz8\n",
       "T+8RDjE/15gePezEyWoQPCTzD9arwbf+PPv+K5exzgBmcdm+G3KYMbRQOrS8TEsiK28NEw4HHRXl\n",
       "lL12l3up1EvOBQMRTQqDxUfLv3Qg5Rtcvh6GmHEP96QiHjAxH/jgk0tIAKlQuxm2cCizOpySamRF\n",
       "1s5vmhyzOVp3mz3cJEWWG7Tl/y2oiCUvjS5UMXOpLw779ZlGBIhilWzhWjewk+OvFMBH/+Fq849D\n",
       "FvI2iF3hM1K+Bs3RW6+QrFS1dSXMHLL/SYPD0180KZ3tMwBn4wLlRuBsOJDvgRPwBYKX25iMerRu\n",
       "7qWDFPtAzWyS/i8FBEYzNtg8q8qWhKMFAnqPLpEki9ZgUxZJ+Ff2INFz4q1WFk+5spfR25ODwVQF\n",
       "36NFgS2KB2jT56rLYDxvT+rShlzeF6t9LaYJsUrRb65/oviGijTFV/7KeK8AAABtAZ42akN/AADo\n",
       "J07ZS77j4LlSAFSt2+nKNArewNQMgOFXOwKDL3RQ0bf1Vsmv/yQqGmcxoDs3tYneP7Wic2SrxXde\n",
       "tgFvWWZgJEfQ1w+MRH1xwe2/8LCiAsFDCF4W79aSU5wG9DD7e3qe3iHe9QAAATdBmjlJ4Q8mUwU8\n",
       "EP/+qlUAAFU+MoeKOUFCe7KrPCPrCYgKghNCYILXH8BKyWkLoob+cqTt7j8a3RomaYw5YvqGrMzm\n",
       "yM+6EzQOf3hhMP2EFVUv8XNestXUUuwg49JkT6XtbZeJjRywI4aa5CEY/CwNDX0neuz0aqscQynb\n",
       "4IqHHQu4YJ8VNPOEUJCsOnrALhJcCA0Mmg/ng4RD4G10b6iyDL8ibLEtNZO1DDZf/0jV9L164mwb\n",
       "1NY78PBpwJt3tWa8xv0WcjXw6EiBNmidPD6n7LxeqHx41a0oOjARuST8qnnlwRjT5hJJd9KZr7kR\n",
       "1YewyCJc0X8kyf9YNNiNPydHehcrZ/9cmsdlP8/UgO6pxNpizyuTB8nRroy1Nt4+PYDeJXxgkyNq\n",
       "RMViNOVjZeYSyiK4nIZ/UQAAAGkBnlhqQ38AAOf2sNE4DpQ38Dx4XOdFoERGtgAE7hZypAUAFkGe\n",
       "hhmQoLynK34Z/9jTdCtOC7QMCv5gYzQNZ8hZl3Pr2njyCnVX3RwEHwwNS+3MZtDAuajf21T8p2Zj\n",
       "9mZpk22oZTr1un0AAAFgQZpbSeEPJlMFPBD//qpVACh/HQjGf3nSqD1IdoitKur4sPAaA8xd86sm\n",
       "5E1+wyZgUVBnbWetfh6rzGbHinV4LgPke3e0nSgW34rsashzR/3X7Ev7+Q8gr2bdqc85fuXOhe5s\n",
       "wHl6ALYheS5b9cFrTYlxSt8AL9iMc/n//suKszId2BzY5Xt+NUn5WkoB0lWbzi6VYn12bA7L3/0L\n",
       "V+Dx919ph/mFT2hRM6bJwC84RM4DPvMFHJ3VcJSww40UMKObtfJWD8U1LWHfkh2BiTMkwVGaPWcE\n",
       "5Be20iCp50QWRbtmo7HsOAQi6hFAcz548e8q1xCL7OHHREGrW3uOt52Uzo6LgQAcd4IEMvKvGkoT\n",
       "HZdqy+fh3+ilzWKBf1AUfxS2xTBK6frIoGukxA2Nqmryi00hTeckTDQw9Z1uSnfOkv/AsaOMLL+R\n",
       "tf3Mpn6a6cgbclj/7nwsW7SJ3TzZXVhuMQAAAG8BnnpqQ38AbkAyL2sl6FumLkyGPXlpYXUbtw8/\n",
       "RUe2OidPyfNjH4NWTUbtSsLZAGqJ9pc79tgRZu7pGeSyZuIx12d5QAf0AAADAAAWrk3N5zMWFkal\n",
       "ol0yF4y3viGX8q740UDOV7KkKLxc5tAxlwsAAAGEQZp+SeEPJlMCCH/+qlUAJz9UCWPTWAN6OR+e\n",
       "EIAQ3cwNXiiRFifyvg/8v9sR3PM5BBdbnqzrYnWJ63vU2vTVksQw+WeGexnOb+3XmufhnI8uXNXj\n",
       "oGmdExoerJBCxQQDiMukL2yuENb1mayh3qK+93um3GIg1Zb20/fkyLK0Mwc7w8Xhag3rA25UZ4Iv\n",
       "36COKLsuZ2rUGw0M3spGGEiACQWc8lFpaj0bYT14c9U8DTkVE96/O8uc0MV+Q+NXDJ5/cdBCksbU\n",
       "XXKs0s/ZEgNIk1wv9RGsw+u4GwfwINP4NkVQzCHDYCSArJtmdAM7rRLvSNCok1jCA4yAwNDI+iN/\n",
       "Un9f8svibVTQTVNgGc9Utd0zeiTCyw6aHONaXEpf92YGLNCka8nb2dJlapiH08t/622IISk5ldVw\n",
       "Rj3QNTdQuonofkCOnWbgUbHzxX7EfyoYG63qF/H/Huh9uwUN97ADX0QakhxTzpwiMMU7tp/pQRLw\n",
       "nx5BKD+VDI9dEzikdJxbZ7tvgQAAAI1BnpxFETw3/wBrwDIvaYuVnOTl39wA3GLq5e0fJgsyuZ7+\n",
       "ktRyqCCl5Xbl9/Vlits9bQmUPcYfvlXNE7S6IUFVR14C1Q9cbgGLJkhrvt5ohmzFakLzMgibkFHU\n",
       "i8gu1G8QUS6SQi315MC7eR5Q9G267KLXVdcDzafyX9bNuz3MFm5QYthnyEcUlrAdqxEAAABeAZ69\n",
       "akN/AABv+3jLz7o6QYw3/rEzZsrnfKn7i1Jd1ODzNZw7/35pbWUAjxhRChaXNryBQbsAuDJY+WIs\n",
       "JqNnk5/lz9h8EGSoWEzZK66E1U8wYAIcQ+lynFV15J8KgAAAAM1Bmr9JqEFomUwIIf/+qlUAAChf\n",
       "GQohJ2+mHjZWRICOve+23wEgVTFdLn3YuNSdrfSBhb6Y/w1LdwEEVaSQ+K+eSDsXdkJ2AFNzE/sf\n",
       "mROZ2/M8h/c00FHb6jzecC44HlX6KnG+OeVHCebizrmJHVGTXRuDLc+7LWa40qCQVwzanI6JY1xk\n",
       "GdpKyNI2e+AS1ycJsmHSREj6AP+AR9qLZdzsM1coMZbr702q+v3fTyQmI5nLpRbC/WWBPG4h5fNC\n",
       "CGYUWWOUp2RqwuKgNG0bAAABRkGawknhClJlMCCH//6qVQAAFJ44jggaACwoMg7YvP+9aWEF+rSc\n",
       "xmUOlKI8/U6EDwBiJEceDIB2xZYRUjXtXGHvm2iV128zl8krtzgFWc5j1VoQHB6Z5COam/zu7vK5\n",
       "0EOaqLdIFX9phWRkfaDHh1UM4PIaGwuU2lceJZaF4wsDdS35bjf9LJCvt09xJL+2VWaSFDxIzwl8\n",
       "Zd8VVWPCiOJEahpW1hx0Hil0SEbhJWSkRlI0aA+NARFk55ILklOnn4uoqusMGY9y53/KEIlbn5zM\n",
       "LrV6Pt24ScwwJp9RfjgGH7GQ5l0ffLQ0EpHG8d9Xjnnqnz1xIDAKrCPrYnnWZ8loAxmtlgWhuycl\n",
       "t7Iabk+hNIc4K4HnYnPM1OLee9witQgc3wvsgoXFtm4VSh3++ahfVah7kybXT8BbhRNe3MU9JQ1N\n",
       "M6ojAAAAW0Ge4EU0TDf/AAA4ljnXuIwyXM5rtNTh4PHB7GMZi5IwEhGftnnzH2V7a5WGRaTE3oVV\n",
       "ryeUH41yDfXko+yYX8QaW0bU4ejAkCnLiB5QUAS9dVcCqEqTzrAgz7AAAABFAZ8BakN/AAA4m5Uh\n",
       "KRXHToDk9UCKl538qdanKys5jhw6WkCeAkn6Ilqurxum+KNOdDwgVVPhXuHY7xBKMDYfaidIDczN\n",
       "AAABHEGbBUmoQWiZTAh///6plgAAULnnBMupHLvyo8PRBlxtNTqwPL4UALNvx57QOc0E7crXrKjm\n",
       "RSGQK/OvzN87+yfmHpEDjbcR5UQVuWQVqUYEq8oNfDG0M0xphQzkVvLSvzuyiY5qjxsKtf/vwVA8\n",
       "tA/JypxRQrNXaRMTv1ozE+sl4mIdnltwABUtPCMuKtKQq7xnm4DNDDgTUEF/aXTIay3egBfZNCnb\n",
       "M06xu1pw91dqSN6CORZBNRC9BlHmkJ/ueIf82FkpVt9/1+ZGOs6xbSirVSTqaKXPyDmy6MiOp0ti\n",
       "hWobIUscDbMb4uBfevIyLeN5T91nrHLYGNwFuDTaHVAClA16erGmD6eRlhAoZi4IL2aeJF6WEcyM\n",
       "hqxsAAAAjUGfI0URLDf/AGg8+tOzgMV1mZx1a7XEs8ANx1+5HZDx4iWv5roudTVnjDKHzurSW3rp\n",
       "8Bvql2gC2oYASihMBAap//3hHgmYr+Hl2kGvWR6nQE0DStO748sTqsEByTGvNKz51V0dNlzqSU9D\n",
       "BMs2+L8oAkoAAEllfuvSxJj7n55aksgLI0Qrxc1baDsPYQAAAGUBn0RqQ38AaUuxFeEXZ/JOY8gB\n",
       "Mjg/leVGAGC1AkZS+SZfcQXARuVuQSBVvcf1cNgCpqbOLVlRM3N3IsOYSdX9VBdEBFrn5btrQkHl\n",
       "BUa5/XpXbvvwSoWeoxrFzWlSxPa+CY8+QQAAAJ5Bm0dJqEFsmUwUTDf//qeEASRQe6g3fspI74xY\n",
       "AM/mAGrLEWZHwEoUdeQW74Xdc9affFpLH21C1Qttj1MwrWyqHd3/9fmAoHnHhWSW5/y5ElCFuPXY\n",
       "73gbeYY9wPVA8hYO1FCCOflSx8mCxPMKzgnwVO9r8nKmVpAH2lyY0ueqpA7aAEHZoXozUJ6a6/Xl\n",
       "6bHL22f0n8gcHy9uQc0/oQAAAG4Bn2ZqQ38AaUAyK7QrKyXVABGFRE7+qFgsjZ/Ov7ovga0j+QbJ\n",
       "YaiXOvTtPM2m0Q3qztB3+MvG8HHDQACGKf0ntNIbjbNBRKnfg7ulLDccKUmZonPEYOeJbZRzogRt\n",
       "Tp6I7ioIjuZHOYGumBgAqwAABL5tb292AAAAbG12aGQAAAAAAAAAAAAAAAAAAAPoAAAPoAABAAAB\n",
       "AAAAAAAAAAAAAAAAAQAAAAAAAAAAAAAAAAAAAAEAAAAAAAAAAAAAAAAAAEAAAAAAAAAAAAAAAAAA\n",
       "AAAAAAAAAAAAAAAAAAAAAAACAAAD6HRyYWsAAABcdGtoZAAAAAMAAAAAAAAAAAAAAAEAAAAAAAAP\n",
       "oAAAAAAAAAAAAAAAAAAAAAAAAQAAAAAAAAAAAAAAAAAAAAEAAAAAAAAAAAAAAAAAAEAAAAABsAAA\n",
       "ASAAAAAAACRlZHRzAAAAHGVsc3QAAAAAAAAAAQAAD6AAAAgAAAEAAAAAA2BtZGlhAAAAIG1kaGQA\n",
       "AAAAAAAAAAAAAAAAACgAAACgAFXEAAAAAAAtaGRscgAAAAAAAAAAdmlkZQAAAAAAAAAAAAAAAFZp\n",
       "ZGVvSGFuZGxlcgAAAAMLbWluZgAAABR2bWhkAAAAAQAAAAAAAAAAAAAAJGRpbmYAAAAcZHJlZgAA\n",
       "AAAAAAABAAAADHVybCAAAAABAAACy3N0YmwAAACzc3RzZAAAAAAAAAABAAAAo2F2YzEAAAAAAAAA\n",
       "AQAAAAAAAAAAAAAAAAAAAAABsAEgAEgAAABIAAAAAAAAAAEAAAAAAAAAAAAAAAAAAAAAAAAAAAAA\n",
       "AAAAAAAAAAAAAAAY//8AAAAxYXZjQwFkABX/4QAYZ2QAFazZQbCWhAAAAwAEAAADAFA8WLZYAQAG\n",
       "aOvjyyLAAAAAHHV1aWRraEDyXyRPxbo5pRvPAyPzAAAAAAAAABhzdHRzAAAAAAAAAAEAAAAoAAAE\n",
       "AAAAABRzdHNzAAAAAAAAAAEAAAABAAABAGN0dHMAAAAAAAAAHgAAAAEAAAgAAAAAAQAAEAAAAAAC\n",
       "AAAEAAAAAAEAABAAAAAAAgAABAAAAAABAAAMAAAAAAEAAAQAAAAAAwAACAAAAAABAAAMAAAAAAEA\n",
       "AAQAAAAAAQAADAAAAAABAAAEAAAAAAQAAAgAAAAAAQAADAAAAAABAAAEAAAAAAEAAAwAAAAAAQAA\n",
       "BAAAAAABAAAMAAAAAAEAAAQAAAAAAQAADAAAAAABAAAEAAAAAAEAABAAAAAAAgAABAAAAAABAAAI\n",
       "AAAAAAEAABAAAAAAAgAABAAAAAABAAAQAAAAAAIAAAQAAAAAAQAADAAAAAABAAAEAAAAABxzdHNj\n",
       "AAAAAAAAAAEAAAABAAAAKAAAAAEAAAC0c3RzegAAAAAAAAAAAAAAKAAAE18AAAKHAAAAmAAAAIcA\n",
       "AAFZAAAA4AAAAKMAAAGRAAAAkQAAASwAAADYAAABDwAAAUoAAAB1AAABOwAAAIEAAAEhAAAA7AAA\n",
       "APQAAAEXAAABJAAAAF0AAAF5AAAAcQAAATsAAABtAAABZAAAAHMAAAGIAAAAkQAAAGIAAADRAAAB\n",
       "SgAAAF8AAABJAAABIAAAAJEAAABpAAAAogAAAHIAAAAUc3RjbwAAAAAAAAABAAAALAAAAGJ1ZHRh\n",
       "AAAAWm1ldGEAAAAAAAAAIWhkbHIAAAAAAAAAAG1kaXJhcHBsAAAAAAAAAAAAAAAALWlsc3QAAAAl\n",
       "qXRvbwAAAB1kYXRhAAAAAQAAAABMYXZmNTcuNTYuMTAx\n",
       "\">\n",
       "  Your browser does not support the video tag.\n",
       "</video>"
      ],
      "text/plain": [
       "<IPython.core.display.HTML object>"
      ]
     },
     "execution_count": 18,
     "metadata": {},
     "output_type": "execute_result"
    }
   ],
   "source": [
    "\n",
    "from matplotlib import animation\n",
    "anim = animation.FuncAnimation(fig,animate,init_func=init,frames=40,interval=100,blit=True)\n",
    "HTML(anim.to_html5_video())"
   ]
  },
  {
   "cell_type": "code",
   "execution_count": null,
   "metadata": {
    "collapsed": true
   },
   "outputs": [],
   "source": []
  }
 ],
 "metadata": {
  "kernelspec": {
   "display_name": "Python 3",
   "language": "python",
   "name": "python3"
  },
  "language_info": {
   "codemirror_mode": {
    "name": "ipython",
    "version": 3
   },
   "file_extension": ".py",
   "mimetype": "text/x-python",
   "name": "python",
   "nbconvert_exporter": "python",
   "pygments_lexer": "ipython3",
   "version": "3.6.0"
  },
  "latex_envs": {
   "LaTeX_envs_menu_present": true,
   "autocomplete": true,
   "bibliofile": "biblio.bib",
   "cite_by": "apalike",
   "current_citInitial": 1,
   "eqLabelWithNumbers": true,
   "eqNumInitial": 1,
   "hotkeys": {
    "equation": "Ctrl-E",
    "itemize": "Ctrl-I"
   },
   "labels_anchors": false,
   "latex_user_defs": false,
   "report_style_numbering": false,
   "user_envs_cfg": false
  }
 },
 "nbformat": 4,
 "nbformat_minor": 2
}
