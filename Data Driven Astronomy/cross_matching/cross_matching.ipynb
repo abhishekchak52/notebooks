{
 "cells": [
  {
   "cell_type": "code",
   "execution_count": 2,
   "metadata": {
    "collapsed": true,
    "deletable": true,
    "editable": true
   },
   "outputs": [],
   "source": [
    "import numpy as np\n"
   ]
  },
  {
   "cell_type": "code",
   "execution_count": 3,
   "metadata": {
    "collapsed": false,
    "deletable": true,
    "editable": true
   },
   "outputs": [],
   "source": [
    "def hms2dec(hours, minutes, seconds):\n",
    "    return 15*(hours + minutes/60 +seconds/3600)\n",
    "\n",
    "def dms2dec(degrees, arcminutes, arcseconds):\n",
    "    angle = abs(degrees) +arcminutes/60 + arcseconds/3600\n",
    "    return angle if degrees > 0 else -angle\n",
    "\n",
    "def import_bss():\n",
    "    data = np.loadtxt('bss.dat',usecols=range(1,7))\n",
    "    coords = np.empty((data.shape[0],3))\n",
    "    for index,row in enumerate(data):\n",
    "        coords[index] = np.asarray([index+1,hms2dec(row[0],row[1],row[2]),dms2dec(row[3],row[4],row[5])])\n",
    "    return coords\n",
    "\n",
    "def import_super():\n",
    "    data = np.loadtxt('super.csv',delimiter=',',skiprows=1,usecols=[0,1])\n",
    "    coords = np.empty((data.shape[0],3))\n",
    "    for index, row in enumerate(data):\n",
    "        coords[index] = np.asarray([index+1,row[0],row[1]])\n",
    "    return coords\n",
    "\n",
    "def angular_dist(ra1,dec1,ra2,dec2):\n",
    "    ra1 = np.radians(ra1)\n",
    "    ra2 = np.radians(ra2)\n",
    "    dec1 = np.radians(dec1)\n",
    "    dec2 = np.radians(dec2)\n",
    "    \n",
    "    a = (np.sin(np.abs((dec1-dec2)/2)))**2\n",
    "    b = np.cos(dec1)*np.cos(dec2)*(np.sin(np.abs(ra1-ra2)/2))**2\n",
    "    r = 2*np.arcsin(np.sqrt(a+b))\n",
    "    \n",
    "    return np.degrees(r)\n",
    "\n",
    "def find_closest(data,ra,dec):\n",
    "    minimum = angular_dist(ra,dec,data[0,1],data[0,2])\n",
    "    for row in data:\n",
    "        dist = angular_dist(ra,dec,row[1],row[2])\n",
    "        if dist < minimum:\n",
    "            minimum = dist\n",
    "            pos = row[0]\n",
    "    return pos,minimum\n",
    "\n",
    "def crossmatch(cat1,cat2,max_dist):\n",
    "    matches = []\n",
    "    no_matches = []\n",
    "    for data in cat1:\n",
    "        closest =  find_closest(cat2,data[1],data[2])\n",
    "        if closest[1]<max_dist:\n",
    "            matches.append((data[0],closest[0],closest[1]))\n",
    "        else:\n",
    "            no_matches.append(data[0])\n",
    "    return matches,no_matches\n",
    "\n",
    "\n"
   ]
  },
  {
   "cell_type": "code",
   "execution_count": 4,
   "metadata": {
    "collapsed": false,
    "deletable": true,
    "editable": true
   },
   "outputs": [
    {
     "ename": "NameError",
     "evalue": "name 'ra' is not defined",
     "output_type": "error",
     "traceback": [
      "\u001b[1;31m---------------------------------------------------------------------------\u001b[0m",
      "\u001b[1;31mNameError\u001b[0m                                 Traceback (most recent call last)",
      "\u001b[1;32m<ipython-input-4-65f2d0963500>\u001b[0m in \u001b[0;36m<module>\u001b[1;34m()\u001b[0m\n\u001b[0;32m      2\u001b[0m \u001b[0mcat2\u001b[0m \u001b[1;33m=\u001b[0m \u001b[0msuperdata\u001b[0m \u001b[1;33m=\u001b[0m \u001b[0mimport_super\u001b[0m\u001b[1;33m(\u001b[0m\u001b[1;33m)\u001b[0m\u001b[1;33m\u001b[0m\u001b[0m\n\u001b[0;32m      3\u001b[0m \u001b[1;33m\u001b[0m\u001b[0m\n\u001b[1;32m----> 4\u001b[1;33m \u001b[0mdist_list\u001b[0m \u001b[1;33m=\u001b[0m \u001b[0mangular_dist\u001b[0m\u001b[1;33m(\u001b[0m\u001b[0mra\u001b[0m\u001b[1;33m,\u001b[0m\u001b[0mdec\u001b[0m\u001b[1;33m,\u001b[0m\u001b[0mdata\u001b[0m\u001b[1;33m[\u001b[0m\u001b[1;33m:\u001b[0m\u001b[1;33m,\u001b[0m\u001b[1;36m1\u001b[0m\u001b[1;33m]\u001b[0m\u001b[1;33m,\u001b[0m\u001b[0mdata\u001b[0m\u001b[1;33m[\u001b[0m\u001b[1;33m:\u001b[0m\u001b[1;33m,\u001b[0m\u001b[1;36m2\u001b[0m\u001b[1;33m]\u001b[0m\u001b[1;33m)\u001b[0m\u001b[1;33m\u001b[0m\u001b[0m\n\u001b[0m",
      "\u001b[1;31mNameError\u001b[0m: name 'ra' is not defined"
     ]
    }
   ],
   "source": [
    "bssdata = import_bss()\n",
    "cat2 = superdata = import_super()\n",
    "\n",
    "dist_list = angular_dist(ra,dec,data[:,1],data[:,2])"
   ]
  },
  {
   "cell_type": "code",
   "execution_count": 7,
   "metadata": {
    "collapsed": false,
    "deletable": true,
    "editable": true
   },
   "outputs": [
    {
     "name": "stdout",
     "output_type": "stream",
     "text": [
      "[   2.          126.58740717  142.6860261 ]\n"
     ]
    }
   ],
   "source": [
    "ra1, dec1 = np.radians([180, 30])\n",
    "cat2 = [[180, 32], [55, 10], [302, -44]]\n",
    "cat2 = np.radians(cat2)\n",
    "ra2s, dec2s = cat2[:,0], cat2[:,1]\n",
    "dists = angular_dist(ra1, dec1, ra2s, dec2s)\n",
    "print(np.degrees(dists))\n"
   ]
  },
  {
   "cell_type": "code",
   "execution_count": null,
   "metadata": {
    "collapsed": false,
    "deletable": true,
    "editable": true
   },
   "outputs": [],
   "source": [
    "# You can use this to test your function.\n",
    "# Any code inside this `if` statement will be ignored by the automarker.\n",
    "\n",
    "bss_cat = import_bss()\n",
    "super_cat = import_super()\n",
    "\n",
    "# First example in the question\n",
    "max_dist = 40/3600\n",
    "matches, no_matches = crossmatch(bss_cat, super_cat, max_dist)\n",
    "print(matches[:3])\n",
    "print(no_matches[:3])\n",
    "print(len(no_matches))\n",
    "\n",
    "# Second example in the question\n",
    "max_dist = 5/3600\n",
    "matches, no_matches = crossmatch(bss_cat, super_cat, max_dist)\n",
    "print(matches[:3])\n",
    "print(no_matches[:3])\n",
    "print(len(no_matches))\n"
   ]
  }
 ],
 "metadata": {
  "kernelspec": {
   "display_name": "Python 3",
   "language": "python",
   "name": "python3"
  },
  "language_info": {
   "codemirror_mode": {
    "name": "ipython",
    "version": 3
   },
   "file_extension": ".py",
   "mimetype": "text/x-python",
   "name": "python",
   "nbconvert_exporter": "python",
   "pygments_lexer": "ipython3",
   "version": "3.6.0"
  }
 },
 "nbformat": 4,
 "nbformat_minor": 2
}
